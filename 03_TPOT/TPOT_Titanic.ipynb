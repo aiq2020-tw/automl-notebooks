{
  "nbformat": 4,
  "nbformat_minor": 0,
  "metadata": {
    "colab": {
      "name": "TPOT_Titanic.ipynb",
      "provenance": [],
      "collapsed_sections": [],
      "machine_shape": "hm"
    },
    "kernelspec": {
      "display_name": "Python 3",
      "name": "python3"
    },
    "language_info": {
      "name": "python"
    },
    "widgets": {
      "application/vnd.jupyter.widget-state+json": {
        "d1c83cda136e4457aa2d98cab080d415": {
          "model_module": "@jupyter-widgets/controls",
          "model_name": "HBoxModel",
          "model_module_version": "1.5.0",
          "state": {
            "_view_name": "HBoxView",
            "_dom_classes": [],
            "_model_name": "HBoxModel",
            "_view_module": "@jupyter-widgets/controls",
            "_model_module_version": "1.5.0",
            "_view_count": null,
            "_view_module_version": "1.5.0",
            "box_style": "",
            "layout": "IPY_MODEL_3327050924f0439d98ad4cdf406a510f",
            "_model_module": "@jupyter-widgets/controls",
            "children": [
              "IPY_MODEL_3bfbb896439e45e0a5a14020255ae3fe",
              "IPY_MODEL_8e0bb99d8f124482b53371adfb7a28fd",
              "IPY_MODEL_e4da7713215d41af8ee28617a388527d"
            ]
          }
        },
        "3327050924f0439d98ad4cdf406a510f": {
          "model_module": "@jupyter-widgets/base",
          "model_name": "LayoutModel",
          "model_module_version": "1.2.0",
          "state": {
            "_view_name": "LayoutView",
            "grid_template_rows": null,
            "right": null,
            "justify_content": null,
            "_view_module": "@jupyter-widgets/base",
            "overflow": null,
            "_model_module_version": "1.2.0",
            "_view_count": null,
            "flex_flow": null,
            "width": null,
            "min_width": null,
            "border": null,
            "align_items": null,
            "bottom": null,
            "_model_module": "@jupyter-widgets/base",
            "top": null,
            "grid_column": null,
            "overflow_y": null,
            "overflow_x": null,
            "grid_auto_flow": null,
            "grid_area": null,
            "grid_template_columns": null,
            "flex": null,
            "_model_name": "LayoutModel",
            "justify_items": null,
            "grid_row": null,
            "max_height": null,
            "align_content": null,
            "visibility": null,
            "align_self": null,
            "height": null,
            "min_height": null,
            "padding": null,
            "grid_auto_rows": null,
            "grid_gap": null,
            "max_width": null,
            "order": null,
            "_view_module_version": "1.2.0",
            "grid_template_areas": null,
            "object_position": null,
            "object_fit": null,
            "grid_auto_columns": null,
            "margin": null,
            "display": null,
            "left": null
          }
        },
        "3bfbb896439e45e0a5a14020255ae3fe": {
          "model_module": "@jupyter-widgets/controls",
          "model_name": "HTMLModel",
          "model_module_version": "1.5.0",
          "state": {
            "_view_name": "HTMLView",
            "style": "IPY_MODEL_1b84c27caa2545a4be21b075b120fb29",
            "_dom_classes": [],
            "description": "",
            "_model_name": "HTMLModel",
            "placeholder": "​",
            "_view_module": "@jupyter-widgets/controls",
            "_model_module_version": "1.5.0",
            "value": "Optimization Progress: 100%",
            "_view_count": null,
            "_view_module_version": "1.5.0",
            "description_tooltip": null,
            "_model_module": "@jupyter-widgets/controls",
            "layout": "IPY_MODEL_cedc5d16c9e94c46beff175d71501841"
          }
        },
        "8e0bb99d8f124482b53371adfb7a28fd": {
          "model_module": "@jupyter-widgets/controls",
          "model_name": "FloatProgressModel",
          "model_module_version": "1.5.0",
          "state": {
            "_view_name": "ProgressView",
            "style": "IPY_MODEL_79cf226ef9fc461fa73398b3abafa3ed",
            "_dom_classes": [],
            "description": "",
            "_model_name": "FloatProgressModel",
            "bar_style": "",
            "max": 55,
            "_view_module": "@jupyter-widgets/controls",
            "_model_module_version": "1.5.0",
            "value": 55,
            "_view_count": null,
            "_view_module_version": "1.5.0",
            "orientation": "horizontal",
            "min": 0,
            "description_tooltip": null,
            "_model_module": "@jupyter-widgets/controls",
            "layout": "IPY_MODEL_d5f16cfbf5e3415792e18596625078f1"
          }
        },
        "e4da7713215d41af8ee28617a388527d": {
          "model_module": "@jupyter-widgets/controls",
          "model_name": "HTMLModel",
          "model_module_version": "1.5.0",
          "state": {
            "_view_name": "HTMLView",
            "style": "IPY_MODEL_96af9663dc3244219a7667202a4d5d94",
            "_dom_classes": [],
            "description": "",
            "_model_name": "HTMLModel",
            "placeholder": "​",
            "_view_module": "@jupyter-widgets/controls",
            "_model_module_version": "1.5.0",
            "value": " 55/55 [00:53&lt;00:00,  1.23pipeline/s]",
            "_view_count": null,
            "_view_module_version": "1.5.0",
            "description_tooltip": null,
            "_model_module": "@jupyter-widgets/controls",
            "layout": "IPY_MODEL_03afa20fcc554234b7c374fe9a06e759"
          }
        },
        "1b84c27caa2545a4be21b075b120fb29": {
          "model_module": "@jupyter-widgets/controls",
          "model_name": "DescriptionStyleModel",
          "model_module_version": "1.5.0",
          "state": {
            "_view_name": "StyleView",
            "_model_name": "DescriptionStyleModel",
            "description_width": "",
            "_view_module": "@jupyter-widgets/base",
            "_model_module_version": "1.5.0",
            "_view_count": null,
            "_view_module_version": "1.2.0",
            "_model_module": "@jupyter-widgets/controls"
          }
        },
        "cedc5d16c9e94c46beff175d71501841": {
          "model_module": "@jupyter-widgets/base",
          "model_name": "LayoutModel",
          "model_module_version": "1.2.0",
          "state": {
            "_view_name": "LayoutView",
            "grid_template_rows": null,
            "right": null,
            "justify_content": null,
            "_view_module": "@jupyter-widgets/base",
            "overflow": null,
            "_model_module_version": "1.2.0",
            "_view_count": null,
            "flex_flow": null,
            "width": null,
            "min_width": null,
            "border": null,
            "align_items": null,
            "bottom": null,
            "_model_module": "@jupyter-widgets/base",
            "top": null,
            "grid_column": null,
            "overflow_y": null,
            "overflow_x": null,
            "grid_auto_flow": null,
            "grid_area": null,
            "grid_template_columns": null,
            "flex": null,
            "_model_name": "LayoutModel",
            "justify_items": null,
            "grid_row": null,
            "max_height": null,
            "align_content": null,
            "visibility": null,
            "align_self": null,
            "height": null,
            "min_height": null,
            "padding": null,
            "grid_auto_rows": null,
            "grid_gap": null,
            "max_width": null,
            "order": null,
            "_view_module_version": "1.2.0",
            "grid_template_areas": null,
            "object_position": null,
            "object_fit": null,
            "grid_auto_columns": null,
            "margin": null,
            "display": null,
            "left": null
          }
        },
        "79cf226ef9fc461fa73398b3abafa3ed": {
          "model_module": "@jupyter-widgets/controls",
          "model_name": "ProgressStyleModel",
          "model_module_version": "1.5.0",
          "state": {
            "_view_name": "StyleView",
            "_model_name": "ProgressStyleModel",
            "description_width": "",
            "_view_module": "@jupyter-widgets/base",
            "_model_module_version": "1.5.0",
            "_view_count": null,
            "_view_module_version": "1.2.0",
            "bar_color": null,
            "_model_module": "@jupyter-widgets/controls"
          }
        },
        "d5f16cfbf5e3415792e18596625078f1": {
          "model_module": "@jupyter-widgets/base",
          "model_name": "LayoutModel",
          "model_module_version": "1.2.0",
          "state": {
            "_view_name": "LayoutView",
            "grid_template_rows": null,
            "right": null,
            "justify_content": null,
            "_view_module": "@jupyter-widgets/base",
            "overflow": null,
            "_model_module_version": "1.2.0",
            "_view_count": null,
            "flex_flow": null,
            "width": null,
            "min_width": null,
            "border": null,
            "align_items": null,
            "bottom": null,
            "_model_module": "@jupyter-widgets/base",
            "top": null,
            "grid_column": null,
            "overflow_y": null,
            "overflow_x": null,
            "grid_auto_flow": null,
            "grid_area": null,
            "grid_template_columns": null,
            "flex": null,
            "_model_name": "LayoutModel",
            "justify_items": null,
            "grid_row": null,
            "max_height": null,
            "align_content": null,
            "visibility": null,
            "align_self": null,
            "height": null,
            "min_height": null,
            "padding": null,
            "grid_auto_rows": null,
            "grid_gap": null,
            "max_width": null,
            "order": null,
            "_view_module_version": "1.2.0",
            "grid_template_areas": null,
            "object_position": null,
            "object_fit": null,
            "grid_auto_columns": null,
            "margin": null,
            "display": null,
            "left": null
          }
        },
        "96af9663dc3244219a7667202a4d5d94": {
          "model_module": "@jupyter-widgets/controls",
          "model_name": "DescriptionStyleModel",
          "model_module_version": "1.5.0",
          "state": {
            "_view_name": "StyleView",
            "_model_name": "DescriptionStyleModel",
            "description_width": "",
            "_view_module": "@jupyter-widgets/base",
            "_model_module_version": "1.5.0",
            "_view_count": null,
            "_view_module_version": "1.2.0",
            "_model_module": "@jupyter-widgets/controls"
          }
        },
        "03afa20fcc554234b7c374fe9a06e759": {
          "model_module": "@jupyter-widgets/base",
          "model_name": "LayoutModel",
          "model_module_version": "1.2.0",
          "state": {
            "_view_name": "LayoutView",
            "grid_template_rows": null,
            "right": null,
            "justify_content": null,
            "_view_module": "@jupyter-widgets/base",
            "overflow": null,
            "_model_module_version": "1.2.0",
            "_view_count": null,
            "flex_flow": null,
            "width": null,
            "min_width": null,
            "border": null,
            "align_items": null,
            "bottom": null,
            "_model_module": "@jupyter-widgets/base",
            "top": null,
            "grid_column": null,
            "overflow_y": null,
            "overflow_x": null,
            "grid_auto_flow": null,
            "grid_area": null,
            "grid_template_columns": null,
            "flex": null,
            "_model_name": "LayoutModel",
            "justify_items": null,
            "grid_row": null,
            "max_height": null,
            "align_content": null,
            "visibility": null,
            "align_self": null,
            "height": null,
            "min_height": null,
            "padding": null,
            "grid_auto_rows": null,
            "grid_gap": null,
            "max_width": null,
            "order": null,
            "_view_module_version": "1.2.0",
            "grid_template_areas": null,
            "object_position": null,
            "object_fit": null,
            "grid_auto_columns": null,
            "margin": null,
            "display": null,
            "left": null
          }
        },
        "1f99382ab61b487180d192f121c899c8": {
          "model_module": "@jupyter-widgets/controls",
          "model_name": "HBoxModel",
          "model_module_version": "1.5.0",
          "state": {
            "_view_name": "HBoxView",
            "_dom_classes": [],
            "_model_name": "HBoxModel",
            "_view_module": "@jupyter-widgets/controls",
            "_model_module_version": "1.5.0",
            "_view_count": null,
            "_view_module_version": "1.5.0",
            "box_style": "",
            "layout": "IPY_MODEL_a75d0352e0a444cfbda27ea522bf5b9f",
            "_model_module": "@jupyter-widgets/controls",
            "children": [
              "IPY_MODEL_493d34d3f1d441ff9fbeeeb1c29d1a2c",
              "IPY_MODEL_2a8da6d0272b46619a58dd900c688497",
              "IPY_MODEL_ac4bbea9241c4154af71108c1055e239"
            ]
          }
        },
        "a75d0352e0a444cfbda27ea522bf5b9f": {
          "model_module": "@jupyter-widgets/base",
          "model_name": "LayoutModel",
          "model_module_version": "1.2.0",
          "state": {
            "_view_name": "LayoutView",
            "grid_template_rows": null,
            "right": null,
            "justify_content": null,
            "_view_module": "@jupyter-widgets/base",
            "overflow": null,
            "_model_module_version": "1.2.0",
            "_view_count": null,
            "flex_flow": null,
            "width": null,
            "min_width": null,
            "border": null,
            "align_items": null,
            "bottom": null,
            "_model_module": "@jupyter-widgets/base",
            "top": null,
            "grid_column": null,
            "overflow_y": null,
            "overflow_x": null,
            "grid_auto_flow": null,
            "grid_area": null,
            "grid_template_columns": null,
            "flex": null,
            "_model_name": "LayoutModel",
            "justify_items": null,
            "grid_row": null,
            "max_height": null,
            "align_content": null,
            "visibility": null,
            "align_self": null,
            "height": null,
            "min_height": null,
            "padding": null,
            "grid_auto_rows": null,
            "grid_gap": null,
            "max_width": null,
            "order": null,
            "_view_module_version": "1.2.0",
            "grid_template_areas": null,
            "object_position": null,
            "object_fit": null,
            "grid_auto_columns": null,
            "margin": null,
            "display": null,
            "left": null
          }
        },
        "493d34d3f1d441ff9fbeeeb1c29d1a2c": {
          "model_module": "@jupyter-widgets/controls",
          "model_name": "HTMLModel",
          "model_module_version": "1.5.0",
          "state": {
            "_view_name": "HTMLView",
            "style": "IPY_MODEL_07423aa9627240f0a6a259076f8e9c73",
            "_dom_classes": [],
            "description": "",
            "_model_name": "HTMLModel",
            "placeholder": "​",
            "_view_module": "@jupyter-widgets/controls",
            "_model_module_version": "1.5.0",
            "value": "Optimization Progress: 100%",
            "_view_count": null,
            "_view_module_version": "1.5.0",
            "description_tooltip": null,
            "_model_module": "@jupyter-widgets/controls",
            "layout": "IPY_MODEL_becf4f27343e4c048cc7f0b0b4e67fe3"
          }
        },
        "2a8da6d0272b46619a58dd900c688497": {
          "model_module": "@jupyter-widgets/controls",
          "model_name": "FloatProgressModel",
          "model_module_version": "1.5.0",
          "state": {
            "_view_name": "ProgressView",
            "style": "IPY_MODEL_efaa020730ed4320a8f96c94b006ff76",
            "_dom_classes": [],
            "description": "",
            "_model_name": "FloatProgressModel",
            "bar_style": "",
            "max": 1100,
            "_view_module": "@jupyter-widgets/controls",
            "_model_module_version": "1.5.0",
            "value": 1100,
            "_view_count": null,
            "_view_module_version": "1.5.0",
            "orientation": "horizontal",
            "min": 0,
            "description_tooltip": null,
            "_model_module": "@jupyter-widgets/controls",
            "layout": "IPY_MODEL_d5864726f3bb482e8d730bb33097c278"
          }
        },
        "ac4bbea9241c4154af71108c1055e239": {
          "model_module": "@jupyter-widgets/controls",
          "model_name": "HTMLModel",
          "model_module_version": "1.5.0",
          "state": {
            "_view_name": "HTMLView",
            "style": "IPY_MODEL_9cf0f3fc795e481a81620b442c8ca4e0",
            "_dom_classes": [],
            "description": "",
            "_model_name": "HTMLModel",
            "placeholder": "​",
            "_view_module": "@jupyter-widgets/controls",
            "_model_module_version": "1.5.0",
            "value": " 1100/1100 [00:20&lt;00:00, 124.05pipeline/s]",
            "_view_count": null,
            "_view_module_version": "1.5.0",
            "description_tooltip": null,
            "_model_module": "@jupyter-widgets/controls",
            "layout": "IPY_MODEL_e6d9e63e159042b1bd3d08c491d029a4"
          }
        },
        "07423aa9627240f0a6a259076f8e9c73": {
          "model_module": "@jupyter-widgets/controls",
          "model_name": "DescriptionStyleModel",
          "model_module_version": "1.5.0",
          "state": {
            "_view_name": "StyleView",
            "_model_name": "DescriptionStyleModel",
            "description_width": "",
            "_view_module": "@jupyter-widgets/base",
            "_model_module_version": "1.5.0",
            "_view_count": null,
            "_view_module_version": "1.2.0",
            "_model_module": "@jupyter-widgets/controls"
          }
        },
        "becf4f27343e4c048cc7f0b0b4e67fe3": {
          "model_module": "@jupyter-widgets/base",
          "model_name": "LayoutModel",
          "model_module_version": "1.2.0",
          "state": {
            "_view_name": "LayoutView",
            "grid_template_rows": null,
            "right": null,
            "justify_content": null,
            "_view_module": "@jupyter-widgets/base",
            "overflow": null,
            "_model_module_version": "1.2.0",
            "_view_count": null,
            "flex_flow": null,
            "width": null,
            "min_width": null,
            "border": null,
            "align_items": null,
            "bottom": null,
            "_model_module": "@jupyter-widgets/base",
            "top": null,
            "grid_column": null,
            "overflow_y": null,
            "overflow_x": null,
            "grid_auto_flow": null,
            "grid_area": null,
            "grid_template_columns": null,
            "flex": null,
            "_model_name": "LayoutModel",
            "justify_items": null,
            "grid_row": null,
            "max_height": null,
            "align_content": null,
            "visibility": null,
            "align_self": null,
            "height": null,
            "min_height": null,
            "padding": null,
            "grid_auto_rows": null,
            "grid_gap": null,
            "max_width": null,
            "order": null,
            "_view_module_version": "1.2.0",
            "grid_template_areas": null,
            "object_position": null,
            "object_fit": null,
            "grid_auto_columns": null,
            "margin": null,
            "display": null,
            "left": null
          }
        },
        "efaa020730ed4320a8f96c94b006ff76": {
          "model_module": "@jupyter-widgets/controls",
          "model_name": "ProgressStyleModel",
          "model_module_version": "1.5.0",
          "state": {
            "_view_name": "StyleView",
            "_model_name": "ProgressStyleModel",
            "description_width": "",
            "_view_module": "@jupyter-widgets/base",
            "_model_module_version": "1.5.0",
            "_view_count": null,
            "_view_module_version": "1.2.0",
            "bar_color": null,
            "_model_module": "@jupyter-widgets/controls"
          }
        },
        "d5864726f3bb482e8d730bb33097c278": {
          "model_module": "@jupyter-widgets/base",
          "model_name": "LayoutModel",
          "model_module_version": "1.2.0",
          "state": {
            "_view_name": "LayoutView",
            "grid_template_rows": null,
            "right": null,
            "justify_content": null,
            "_view_module": "@jupyter-widgets/base",
            "overflow": null,
            "_model_module_version": "1.2.0",
            "_view_count": null,
            "flex_flow": null,
            "width": null,
            "min_width": null,
            "border": null,
            "align_items": null,
            "bottom": null,
            "_model_module": "@jupyter-widgets/base",
            "top": null,
            "grid_column": null,
            "overflow_y": null,
            "overflow_x": null,
            "grid_auto_flow": null,
            "grid_area": null,
            "grid_template_columns": null,
            "flex": null,
            "_model_name": "LayoutModel",
            "justify_items": null,
            "grid_row": null,
            "max_height": null,
            "align_content": null,
            "visibility": null,
            "align_self": null,
            "height": null,
            "min_height": null,
            "padding": null,
            "grid_auto_rows": null,
            "grid_gap": null,
            "max_width": null,
            "order": null,
            "_view_module_version": "1.2.0",
            "grid_template_areas": null,
            "object_position": null,
            "object_fit": null,
            "grid_auto_columns": null,
            "margin": null,
            "display": null,
            "left": null
          }
        },
        "9cf0f3fc795e481a81620b442c8ca4e0": {
          "model_module": "@jupyter-widgets/controls",
          "model_name": "DescriptionStyleModel",
          "model_module_version": "1.5.0",
          "state": {
            "_view_name": "StyleView",
            "_model_name": "DescriptionStyleModel",
            "description_width": "",
            "_view_module": "@jupyter-widgets/base",
            "_model_module_version": "1.5.0",
            "_view_count": null,
            "_view_module_version": "1.2.0",
            "_model_module": "@jupyter-widgets/controls"
          }
        },
        "e6d9e63e159042b1bd3d08c491d029a4": {
          "model_module": "@jupyter-widgets/base",
          "model_name": "LayoutModel",
          "model_module_version": "1.2.0",
          "state": {
            "_view_name": "LayoutView",
            "grid_template_rows": null,
            "right": null,
            "justify_content": null,
            "_view_module": "@jupyter-widgets/base",
            "overflow": null,
            "_model_module_version": "1.2.0",
            "_view_count": null,
            "flex_flow": null,
            "width": null,
            "min_width": null,
            "border": null,
            "align_items": null,
            "bottom": null,
            "_model_module": "@jupyter-widgets/base",
            "top": null,
            "grid_column": null,
            "overflow_y": null,
            "overflow_x": null,
            "grid_auto_flow": null,
            "grid_area": null,
            "grid_template_columns": null,
            "flex": null,
            "_model_name": "LayoutModel",
            "justify_items": null,
            "grid_row": null,
            "max_height": null,
            "align_content": null,
            "visibility": null,
            "align_self": null,
            "height": null,
            "min_height": null,
            "padding": null,
            "grid_auto_rows": null,
            "grid_gap": null,
            "max_width": null,
            "order": null,
            "_view_module_version": "1.2.0",
            "grid_template_areas": null,
            "object_position": null,
            "object_fit": null,
            "grid_auto_columns": null,
            "margin": null,
            "display": null,
            "left": null
          }
        }
      }
    },
    "accelerator": "GPU"
  },
  "cells": [
    {
      "cell_type": "markdown",
      "metadata": {
        "id": "rBa1zIWHKxU0"
      },
      "source": [
        "**AutoML OSS入門（3）**\n",
        "# 遺伝的プログラミングによるAutoML OSS「TPOT」\n",
        "\n",
        "本ノートブックの紹介記事と併せてご覧ください。\n",
        "- ＠IT連載 AutoML OSS入門（3）- 第3回「遺伝的プログラミングによるAutoML OSS「TPOT」」\n",
        "\n",
        "また、ノートブックの扱い方やタイタニックの生存予測データについては、連載記事の第1回を参照してください。\n",
        "- [＠IT連載 AutoML OSS入門（１）- 第1回「機械学習モデル構築作業の煩雑さを解消する「AutoML」とは――歴史、動向、利用のメリットを整理する」](https://www.atmarkit.co.jp/ait/articles/2107/02/news006.html)"
      ]
    },
    {
      "cell_type": "markdown",
      "metadata": {
        "id": "EJMYNuSNJP2V"
      },
      "source": [
        "## タイタニックデータでAutoML"
      ]
    },
    {
      "cell_type": "markdown",
      "metadata": {
        "id": "q4ibZMjlX0-z"
      },
      "source": [
        "### セットアップ"
      ]
    },
    {
      "cell_type": "code",
      "metadata": {
        "colab": {
          "base_uri": "https://localhost:8080/"
        },
        "id": "FZzebKPrJfk-",
        "outputId": "689756c2-1645-4640-bab9-8c6140f8afdb"
      },
      "source": [
        "# tpotのインストール\n",
        "!pip install tpot"
      ],
      "execution_count": 1,
      "outputs": [
        {
          "output_type": "stream",
          "name": "stdout",
          "text": [
            "Collecting tpot\n",
            "  Downloading TPOT-0.11.7-py3-none-any.whl (87 kB)\n",
            "\u001b[?25l\r\u001b[K     |███▊                            | 10 kB 15.6 MB/s eta 0:00:01\r\u001b[K     |███████▌                        | 20 kB 5.7 MB/s eta 0:00:01\r\u001b[K     |███████████▎                    | 30 kB 7.7 MB/s eta 0:00:01\r\u001b[K     |███████████████                 | 40 kB 9.2 MB/s eta 0:00:01\r\u001b[K     |██████████████████▉             | 51 kB 9.4 MB/s eta 0:00:01\r\u001b[K     |██████████████████████▋         | 61 kB 5.8 MB/s eta 0:00:01\r\u001b[K     |██████████████████████████▎     | 71 kB 5.2 MB/s eta 0:00:01\r\u001b[K     |██████████████████████████████  | 81 kB 5.9 MB/s eta 0:00:01\r\u001b[K     |████████████████████████████████| 87 kB 2.5 MB/s \n",
            "\u001b[?25hCollecting update-checker>=0.16\n",
            "  Downloading update_checker-0.18.0-py3-none-any.whl (7.0 kB)\n",
            "Requirement already satisfied: numpy>=1.16.3 in /usr/local/lib/python3.7/dist-packages (from tpot) (1.19.5)\n",
            "Collecting stopit>=1.1.1\n",
            "  Downloading stopit-1.1.2.tar.gz (18 kB)\n",
            "Requirement already satisfied: scikit-learn>=0.22.0 in /usr/local/lib/python3.7/dist-packages (from tpot) (0.22.2.post1)\n",
            "Requirement already satisfied: scipy>=1.3.1 in /usr/local/lib/python3.7/dist-packages (from tpot) (1.4.1)\n",
            "Requirement already satisfied: tqdm>=4.36.1 in /usr/local/lib/python3.7/dist-packages (from tpot) (4.62.0)\n",
            "Collecting xgboost>=1.1.0\n",
            "  Downloading xgboost-1.4.2-py3-none-manylinux2010_x86_64.whl (166.7 MB)\n",
            "\u001b[K     |████████████████████████████████| 166.7 MB 17 kB/s \n",
            "\u001b[?25hRequirement already satisfied: pandas>=0.24.2 in /usr/local/lib/python3.7/dist-packages (from tpot) (1.1.5)\n",
            "Collecting deap>=1.2\n",
            "  Downloading deap-1.3.1-cp37-cp37m-manylinux_2_5_x86_64.manylinux1_x86_64.manylinux_2_12_x86_64.manylinux2010_x86_64.whl (160 kB)\n",
            "\u001b[K     |████████████████████████████████| 160 kB 50.1 MB/s \n",
            "\u001b[?25hRequirement already satisfied: joblib>=0.13.2 in /usr/local/lib/python3.7/dist-packages (from tpot) (1.0.1)\n",
            "Requirement already satisfied: python-dateutil>=2.7.3 in /usr/local/lib/python3.7/dist-packages (from pandas>=0.24.2->tpot) (2.8.2)\n",
            "Requirement already satisfied: pytz>=2017.2 in /usr/local/lib/python3.7/dist-packages (from pandas>=0.24.2->tpot) (2018.9)\n",
            "Requirement already satisfied: six>=1.5 in /usr/local/lib/python3.7/dist-packages (from python-dateutil>=2.7.3->pandas>=0.24.2->tpot) (1.15.0)\n",
            "Requirement already satisfied: requests>=2.3.0 in /usr/local/lib/python3.7/dist-packages (from update-checker>=0.16->tpot) (2.23.0)\n",
            "Requirement already satisfied: chardet<4,>=3.0.2 in /usr/local/lib/python3.7/dist-packages (from requests>=2.3.0->update-checker>=0.16->tpot) (3.0.4)\n",
            "Requirement already satisfied: certifi>=2017.4.17 in /usr/local/lib/python3.7/dist-packages (from requests>=2.3.0->update-checker>=0.16->tpot) (2021.5.30)\n",
            "Requirement already satisfied: urllib3!=1.25.0,!=1.25.1,<1.26,>=1.21.1 in /usr/local/lib/python3.7/dist-packages (from requests>=2.3.0->update-checker>=0.16->tpot) (1.24.3)\n",
            "Requirement already satisfied: idna<3,>=2.5 in /usr/local/lib/python3.7/dist-packages (from requests>=2.3.0->update-checker>=0.16->tpot) (2.10)\n",
            "Building wheels for collected packages: stopit\n",
            "  Building wheel for stopit (setup.py) ... \u001b[?25l\u001b[?25hdone\n",
            "  Created wheel for stopit: filename=stopit-1.1.2-py3-none-any.whl size=11952 sha256=60af6c5c4343c6b89836e8e7054d2c4ca06482f341c23d45f58943e4da78afc0\n",
            "  Stored in directory: /root/.cache/pip/wheels/e2/d2/79/eaf81edb391e27c87f51b8ef901ecc85a5363dc96b8b8d71e3\n",
            "Successfully built stopit\n",
            "Installing collected packages: xgboost, update-checker, stopit, deap, tpot\n",
            "  Attempting uninstall: xgboost\n",
            "    Found existing installation: xgboost 0.90\n",
            "    Uninstalling xgboost-0.90:\n",
            "      Successfully uninstalled xgboost-0.90\n",
            "Successfully installed deap-1.3.1 stopit-1.1.2 tpot-0.11.7 update-checker-0.18.0 xgboost-1.4.2\n"
          ]
        }
      ]
    },
    {
      "cell_type": "code",
      "metadata": {
        "colab": {
          "base_uri": "https://localhost:8080/"
        },
        "id": "dJNwC1dZtFtd",
        "outputId": "edd586e9-c7d9-46c7-ef6e-869b757121b9"
      },
      "source": [
        "!tpot --version"
      ],
      "execution_count": 2,
      "outputs": [
        {
          "output_type": "stream",
          "name": "stdout",
          "text": [
            "/usr/local/lib/python3.7/dist-packages/sklearn/externals/six.py:31: FutureWarning: The module is deprecated in version 0.21 and will be removed in version 0.23 since we've dropped support for Python 2.7. Please rely on the official version of six (https://pypi.org/project/six/).\n",
            "  \"(https://pypi.org/project/six/).\", FutureWarning)\n",
            "/usr/local/lib/python3.7/dist-packages/sklearn/utils/deprecation.py:144: FutureWarning: The sklearn.neighbors.base module is  deprecated in version 0.22 and will be removed in version 0.24. The corresponding classes / functions should instead be imported from sklearn.neighbors. Anything that cannot be imported from sklearn.neighbors is now part of the private API.\n",
            "  warnings.warn(message, FutureWarning)\n",
            "TPOT 0.11.7\n"
          ]
        }
      ]
    },
    {
      "cell_type": "markdown",
      "metadata": {
        "id": "gmFtchw8ZFaK"
      },
      "source": [
        "### データのロード\n",
        "第1回「AutoMLとは」の「タイタニックの生存予測データの取得方法と解説」の章を参照してください。"
      ]
    },
    {
      "cell_type": "code",
      "metadata": {
        "colab": {
          "base_uri": "https://localhost:8080/"
        },
        "id": "KeRoqqQ7jpj0",
        "outputId": "0a4a2ecc-4027-4cab-c32d-9d9ec696cce7"
      },
      "source": [
        "# データの準備\n",
        "!wget -N https://github.com/aiq2020-tw/automl-notebooks/raw/main/titanic.zip\n",
        "!unzip titanic.zip"
      ],
      "execution_count": 3,
      "outputs": [
        {
          "output_type": "stream",
          "name": "stdout",
          "text": [
            "--2021-09-15 09:06:41--  https://github.com/aiq2020-tw/automl-notebooks/raw/main/titanic.zip\n",
            "Resolving github.com (github.com)... 140.82.114.3\n",
            "Connecting to github.com (github.com)|140.82.114.3|:443... connected.\n",
            "HTTP request sent, awaiting response... 302 Found\n",
            "Location: https://raw.githubusercontent.com/aiq2020-tw/automl-notebooks/main/titanic.zip [following]\n",
            "--2021-09-15 09:06:41--  https://raw.githubusercontent.com/aiq2020-tw/automl-notebooks/main/titanic.zip\n",
            "Resolving raw.githubusercontent.com (raw.githubusercontent.com)... 185.199.108.133, 185.199.109.133, 185.199.110.133, ...\n",
            "Connecting to raw.githubusercontent.com (raw.githubusercontent.com)|185.199.108.133|:443... connected.\n",
            "HTTP request sent, awaiting response... 200 OK\n",
            "Length: 34877 (34K) [application/zip]\n",
            "Saving to: ‘titanic.zip’\n",
            "\n",
            "titanic.zip         100%[===================>]  34.06K  --.-KB/s    in 0.002s  \n",
            "\n",
            "Last-modified header missing -- time-stamps turned off.\n",
            "2021-09-15 09:06:41 (14.5 MB/s) - ‘titanic.zip’ saved [34877/34877]\n",
            "\n",
            "Archive:  titanic.zip\n",
            "  inflating: gender_submission.csv   \n",
            "  inflating: test.csv                \n",
            "  inflating: train.csv               \n"
          ]
        }
      ]
    },
    {
      "cell_type": "code",
      "metadata": {
        "colab": {
          "base_uri": "https://localhost:8080/"
        },
        "id": "BHBQ-lzRbnTa",
        "outputId": "c3af1024-9e0d-40e6-b364-0ae18bb4a4cb"
      },
      "source": [
        "# 学習データ/テストデータの読み込み\n",
        "import pandas as pd\n",
        "train_df = pd.read_csv('train.csv')\n",
        "print('Train data shape:', str(train_df.shape))\n",
        "test_df = pd.read_csv('test.csv')\n",
        "print('Test data shape:', str(test_df.shape))"
      ],
      "execution_count": 4,
      "outputs": [
        {
          "output_type": "stream",
          "name": "stdout",
          "text": [
            "Train data shape: (891, 12)\n",
            "Test data shape: (418, 11)\n"
          ]
        }
      ]
    },
    {
      "cell_type": "markdown",
      "metadata": {
        "id": "qca_N5Gfc0j9"
      },
      "source": [
        "### データの前処理"
      ]
    },
    {
      "cell_type": "code",
      "metadata": {
        "id": "xt43WTbYp0-2"
      },
      "source": [
        "# 「PassengerId」列と「Name」列は今回は使用しない\n",
        "X_train = train_df.drop(['PassengerId', 'Name'], axis=1)\n",
        "X_test = test_df.drop(['PassengerId', 'Name'], axis=1)\n",
        "# 目的変数\n",
        "y_train = X_train.pop('Survived')"
      ],
      "execution_count": 5,
      "outputs": []
    },
    {
      "cell_type": "code",
      "metadata": {
        "colab": {
          "base_uri": "https://localhost:8080/"
        },
        "id": "MWAfinnr5yMA",
        "outputId": "36641237-3ed4-4411-fb11-8896efeaad33"
      },
      "source": [
        "# TPOTでは説明変数を数値型にする必要があるため変換\n",
        "from sklearn.preprocessing import LabelEncoder\n",
        "\n",
        "list_cols = ['Sex', 'Ticket', 'Cabin', 'Embarked']\n",
        "for col in list_cols:\n",
        "    X_train[col] = X_train[col].fillna('missing')\n",
        "    X_test[col] = X_test[col].fillna('missing')\n",
        "    target_column = pd.concat([X_train[col], X_test[col]])\n",
        "    le = LabelEncoder()\n",
        "    le.fit(target_column)\n",
        "    X_train[col] = le.transform(X_train[col])\n",
        "    X_train[col] = X_train[col].astype('category')\n",
        "    X_test[col] = le.transform(X_test[col])\n",
        "    X_test[col] = X_test[col].astype('category')\n",
        "X_train.dtypes"
      ],
      "execution_count": 6,
      "outputs": [
        {
          "output_type": "execute_result",
          "data": {
            "text/plain": [
              "Pclass         int64\n",
              "Sex         category\n",
              "Age          float64\n",
              "SibSp          int64\n",
              "Parch          int64\n",
              "Ticket      category\n",
              "Fare         float64\n",
              "Cabin       category\n",
              "Embarked    category\n",
              "dtype: object"
            ]
          },
          "metadata": {},
          "execution_count": 6
        }
      ]
    },
    {
      "cell_type": "markdown",
      "metadata": {
        "id": "K15Pip5Jwh2Q"
      },
      "source": [
        "### モデルの学習と評価"
      ]
    },
    {
      "cell_type": "code",
      "metadata": {
        "colab": {
          "base_uri": "https://localhost:8080/",
          "height": 615,
          "referenced_widgets": [
            "d1c83cda136e4457aa2d98cab080d415",
            "3327050924f0439d98ad4cdf406a510f",
            "3bfbb896439e45e0a5a14020255ae3fe",
            "8e0bb99d8f124482b53371adfb7a28fd",
            "e4da7713215d41af8ee28617a388527d",
            "1b84c27caa2545a4be21b075b120fb29",
            "cedc5d16c9e94c46beff175d71501841",
            "79cf226ef9fc461fa73398b3abafa3ed",
            "d5f16cfbf5e3415792e18596625078f1",
            "96af9663dc3244219a7667202a4d5d94",
            "03afa20fcc554234b7c374fe9a06e759"
          ]
        },
        "id": "YAg4Ewgdr3v_",
        "outputId": "3d5dd26d-0d9e-41ef-dfac-e4f2935a60fd"
      },
      "source": [
        "# モデルの学習\n",
        "from tpot import TPOTClassifier\n",
        "tpot = TPOTClassifier(verbosity=2, generations=10, population_size=5, random_state=42)\n",
        "tpot.fit(X_train, y_train)"
      ],
      "execution_count": 7,
      "outputs": [
        {
          "output_type": "stream",
          "name": "stderr",
          "text": [
            "/usr/local/lib/python3.7/dist-packages/sklearn/externals/six.py:31: FutureWarning: The module is deprecated in version 0.21 and will be removed in version 0.23 since we've dropped support for Python 2.7. Please rely on the official version of six (https://pypi.org/project/six/).\n",
            "  \"(https://pypi.org/project/six/).\", FutureWarning)\n",
            "/usr/local/lib/python3.7/dist-packages/sklearn/utils/deprecation.py:144: FutureWarning: The sklearn.neighbors.base module is  deprecated in version 0.22 and will be removed in version 0.24. The corresponding classes / functions should instead be imported from sklearn.neighbors. Anything that cannot be imported from sklearn.neighbors is now part of the private API.\n",
            "  warnings.warn(message, FutureWarning)\n"
          ]
        },
        {
          "output_type": "stream",
          "name": "stdout",
          "text": [
            "Imputing missing values in feature set\n"
          ]
        },
        {
          "output_type": "display_data",
          "data": {
            "application/vnd.jupyter.widget-view+json": {
              "model_id": "d1c83cda136e4457aa2d98cab080d415",
              "version_minor": 0,
              "version_major": 2
            },
            "text/plain": [
              "Optimization Progress:   0%|          | 0/55 [00:00<?, ?pipeline/s]"
            ]
          },
          "metadata": {}
        },
        {
          "output_type": "stream",
          "name": "stdout",
          "text": [
            "\n",
            "Generation 1 - Current best internal CV score: 0.8227167158370472\n",
            "\n",
            "Generation 2 - Current best internal CV score: 0.8227167158370472\n",
            "\n",
            "Generation 3 - Current best internal CV score: 0.8272048207896555\n",
            "\n",
            "Generation 4 - Current best internal CV score: 0.8316678174628084\n",
            "\n",
            "Generation 5 - Current best internal CV score: 0.8372983491306257\n",
            "\n",
            "Generation 6 - Current best internal CV score: 0.8372983491306257\n",
            "\n",
            "Generation 7 - Current best internal CV score: 0.837323457410081\n",
            "\n",
            "Generation 8 - Current best internal CV score: 0.837323457410081\n",
            "\n",
            "Generation 9 - Current best internal CV score: 0.837323457410081\n",
            "\n",
            "Generation 10 - Current best internal CV score: 0.837323457410081\n",
            "\n",
            "Best pipeline: XGBClassifier(input_matrix, learning_rate=0.01, max_depth=9, min_child_weight=1, n_estimators=100, n_jobs=1, subsample=0.8, verbosity=0)\n"
          ]
        },
        {
          "output_type": "execute_result",
          "data": {
            "text/plain": [
              "TPOTClassifier(config_dict=None, crossover_rate=0.1, cv=5,\n",
              "               disable_update_check=False, early_stop=None, generations=10,\n",
              "               log_file=None, max_eval_time_mins=5, max_time_mins=None,\n",
              "               memory=None, mutation_rate=0.9, n_jobs=1, offspring_size=None,\n",
              "               periodic_checkpoint_folder=None, population_size=5,\n",
              "               random_state=42, scoring=None, subsample=1.0, template=None,\n",
              "               use_dask=False, verbosity=2, warm_start=False)"
            ]
          },
          "metadata": {},
          "execution_count": 7
        }
      ]
    },
    {
      "cell_type": "code",
      "metadata": {
        "colab": {
          "base_uri": "https://localhost:8080/"
        },
        "id": "EedkdmwaJAYR",
        "outputId": "60d63c5c-29a6-4ea7-fdfe-6825a80add07"
      },
      "source": [
        "# 最も精度の良かったパイプラインを表示\n",
        "tpot.fitted_pipeline_"
      ],
      "execution_count": 8,
      "outputs": [
        {
          "output_type": "execute_result",
          "data": {
            "text/plain": [
              "Pipeline(memory=None,\n",
              "         steps=[('xgbclassifier',\n",
              "                 XGBClassifier(base_score=0.5, booster='gbtree',\n",
              "                               colsample_bylevel=1, colsample_bynode=1,\n",
              "                               colsample_bytree=1, gamma=0, gpu_id=-1,\n",
              "                               importance_type='gain',\n",
              "                               interaction_constraints='', learning_rate=0.01,\n",
              "                               max_delta_step=0, max_depth=9,\n",
              "                               min_child_weight=1, missing=nan,\n",
              "                               monotone_constraints='()', n_estimators=100,\n",
              "                               n_jobs=1, num_parallel_tree=1,\n",
              "                               objective='binary:logistic', random_state=42,\n",
              "                               reg_alpha=0, reg_lambda=1, scale_pos_weight=1,\n",
              "                               subsample=0.8, tree_method='exact',\n",
              "                               use_label_encoder=True, validate_parameters=1,\n",
              "                               verbosity=0))],\n",
              "         verbose=False)"
            ]
          },
          "metadata": {},
          "execution_count": 8
        }
      ]
    },
    {
      "cell_type": "code",
      "metadata": {
        "colab": {
          "base_uri": "https://localhost:8080/"
        },
        "id": "K2zTC-whWEWF",
        "outputId": "857bcec4-993a-4818-aaa6-9bbefe6ea5e7"
      },
      "source": [
        "# 最適化の過程で生成された他のパイプライン\n",
        "tpot.evaluated_individuals_"
      ],
      "execution_count": 9,
      "outputs": [
        {
          "output_type": "execute_result",
          "data": {
            "text/plain": [
              "{'BernoulliNB(input_matrix, BernoulliNB__alpha=0.1, BernoulliNB__fit_prior=True)': {'crossover_count': 0,\n",
              "  'generation': 5,\n",
              "  'internal_cv_score': 0.785606678802335,\n",
              "  'mutation_count': 2,\n",
              "  'operator_count': 1,\n",
              "  'predecessor': ('ExtraTreesClassifier(input_matrix, ExtraTreesClassifier__bootstrap=True, ExtraTreesClassifier__criterion=entropy, ExtraTreesClassifier__max_features=0.6000000000000001, ExtraTreesClassifier__min_samples_leaf=15, ExtraTreesClassifier__min_samples_split=10, ExtraTreesClassifier__n_estimators=100)',)},\n",
              " 'DecisionTreeClassifier(input_matrix, DecisionTreeClassifier__criterion=gini, DecisionTreeClassifier__max_depth=5, DecisionTreeClassifier__min_samples_leaf=9, DecisionTreeClassifier__min_samples_split=10)': {'crossover_count': 0,\n",
              "  'generation': 1,\n",
              "  'internal_cv_score': 0.8014123407193521,\n",
              "  'mutation_count': 1,\n",
              "  'operator_count': 1,\n",
              "  'predecessor': ('GaussianNB(input_matrix)',)},\n",
              " 'ExtraTreesClassifier(ExtraTreesClassifier(input_matrix, ExtraTreesClassifier__bootstrap=True, ExtraTreesClassifier__criterion=gini, ExtraTreesClassifier__max_features=0.7000000000000001, ExtraTreesClassifier__min_samples_leaf=20, ExtraTreesClassifier__min_samples_split=4, ExtraTreesClassifier__n_estimators=100), ExtraTreesClassifier__bootstrap=True, ExtraTreesClassifier__criterion=entropy, ExtraTreesClassifier__max_features=0.6000000000000001, ExtraTreesClassifier__min_samples_leaf=15, ExtraTreesClassifier__min_samples_split=10, ExtraTreesClassifier__n_estimators=100)': {'crossover_count': 0,\n",
              "  'generation': 5,\n",
              "  'internal_cv_score': 0.8069675475488042,\n",
              "  'mutation_count': 2,\n",
              "  'operator_count': 2,\n",
              "  'predecessor': ('ExtraTreesClassifier(input_matrix, ExtraTreesClassifier__bootstrap=True, ExtraTreesClassifier__criterion=entropy, ExtraTreesClassifier__max_features=0.6000000000000001, ExtraTreesClassifier__min_samples_leaf=15, ExtraTreesClassifier__min_samples_split=10, ExtraTreesClassifier__n_estimators=100)',)},\n",
              " 'ExtraTreesClassifier(MLPClassifier(input_matrix, MLPClassifier__alpha=0.001, MLPClassifier__learning_rate_init=0.1), ExtraTreesClassifier__bootstrap=True, ExtraTreesClassifier__criterion=entropy, ExtraTreesClassifier__max_features=0.6000000000000001, ExtraTreesClassifier__min_samples_leaf=15, ExtraTreesClassifier__min_samples_split=10, ExtraTreesClassifier__n_estimators=100)': {'crossover_count': 0,\n",
              "  'generation': 6,\n",
              "  'internal_cv_score': 0.8047140794677045,\n",
              "  'mutation_count': 2,\n",
              "  'operator_count': 2,\n",
              "  'predecessor': ('ExtraTreesClassifier(input_matrix, ExtraTreesClassifier__bootstrap=True, ExtraTreesClassifier__criterion=entropy, ExtraTreesClassifier__max_features=0.6000000000000001, ExtraTreesClassifier__min_samples_leaf=15, ExtraTreesClassifier__min_samples_split=10, ExtraTreesClassifier__n_estimators=100)',)},\n",
              " 'ExtraTreesClassifier(PCA(input_matrix, PCA__iterated_power=5, PCA__svd_solver=randomized), ExtraTreesClassifier__bootstrap=True, ExtraTreesClassifier__criterion=entropy, ExtraTreesClassifier__max_features=0.6000000000000001, ExtraTreesClassifier__min_samples_leaf=15, ExtraTreesClassifier__min_samples_split=10, ExtraTreesClassifier__n_estimators=100)': {'crossover_count': 0,\n",
              "  'generation': 2,\n",
              "  'internal_cv_score': 0.7934718473416609,\n",
              "  'mutation_count': 2,\n",
              "  'operator_count': 2,\n",
              "  'predecessor': ('ExtraTreesClassifier(input_matrix, ExtraTreesClassifier__bootstrap=True, ExtraTreesClassifier__criterion=entropy, ExtraTreesClassifier__max_features=0.6000000000000001, ExtraTreesClassifier__min_samples_leaf=15, ExtraTreesClassifier__min_samples_split=10, ExtraTreesClassifier__n_estimators=100)',)},\n",
              " 'ExtraTreesClassifier(PolynomialFeatures(input_matrix, PolynomialFeatures__degree=2, PolynomialFeatures__include_bias=False, PolynomialFeatures__interaction_only=False), ExtraTreesClassifier__bootstrap=True, ExtraTreesClassifier__criterion=entropy, ExtraTreesClassifier__max_features=0.6000000000000001, ExtraTreesClassifier__min_samples_leaf=15, ExtraTreesClassifier__min_samples_split=10, ExtraTreesClassifier__n_estimators=100)': {'crossover_count': 0,\n",
              "  'generation': 2,\n",
              "  'internal_cv_score': 0.8092147385600402,\n",
              "  'mutation_count': 2,\n",
              "  'operator_count': 2,\n",
              "  'predecessor': ('ExtraTreesClassifier(input_matrix, ExtraTreesClassifier__bootstrap=True, ExtraTreesClassifier__criterion=entropy, ExtraTreesClassifier__max_features=0.6000000000000001, ExtraTreesClassifier__min_samples_leaf=15, ExtraTreesClassifier__min_samples_split=10, ExtraTreesClassifier__n_estimators=100)',)},\n",
              " 'ExtraTreesClassifier(input_matrix, ExtraTreesClassifier__bootstrap=True, ExtraTreesClassifier__criterion=entropy, ExtraTreesClassifier__max_features=0.6000000000000001, ExtraTreesClassifier__min_samples_leaf=15, ExtraTreesClassifier__min_samples_split=10, ExtraTreesClassifier__n_estimators=100)': {'crossover_count': 0,\n",
              "  'generation': 1,\n",
              "  'internal_cv_score': 0.8035904839620865,\n",
              "  'mutation_count': 1,\n",
              "  'operator_count': 1,\n",
              "  'predecessor': ('GaussianNB(input_matrix)',)},\n",
              " 'ExtraTreesClassifier(input_matrix, ExtraTreesClassifier__bootstrap=True, ExtraTreesClassifier__criterion=entropy, ExtraTreesClassifier__max_features=0.6000000000000001, ExtraTreesClassifier__min_samples_leaf=8, ExtraTreesClassifier__min_samples_split=10, ExtraTreesClassifier__n_estimators=100)': {'crossover_count': 0,\n",
              "  'generation': 3,\n",
              "  'internal_cv_score': 0.8002385286548239,\n",
              "  'mutation_count': 2,\n",
              "  'operator_count': 1,\n",
              "  'predecessor': ('ExtraTreesClassifier(input_matrix, ExtraTreesClassifier__bootstrap=True, ExtraTreesClassifier__criterion=entropy, ExtraTreesClassifier__max_features=0.6000000000000001, ExtraTreesClassifier__min_samples_leaf=15, ExtraTreesClassifier__min_samples_split=10, ExtraTreesClassifier__n_estimators=100)',)},\n",
              " 'GaussianNB(input_matrix)': {'crossover_count': 0,\n",
              "  'generation': 0,\n",
              "  'internal_cv_score': 0.7744711568639759,\n",
              "  'mutation_count': 0,\n",
              "  'operator_count': 1,\n",
              "  'predecessor': ('ROOT',)},\n",
              " 'GradientBoostingClassifier(input_matrix, GradientBoostingClassifier__learning_rate=0.1, GradientBoostingClassifier__max_depth=1, GradientBoostingClassifier__max_features=0.7000000000000001, GradientBoostingClassifier__min_samples_leaf=9, GradientBoostingClassifier__min_samples_split=9, GradientBoostingClassifier__n_estimators=100, GradientBoostingClassifier__subsample=0.1)': {'crossover_count': 0,\n",
              "  'generation': 5,\n",
              "  'internal_cv_score': 0.7722302429226038,\n",
              "  'mutation_count': 3,\n",
              "  'operator_count': 1,\n",
              "  'predecessor': ('XGBClassifier(input_matrix, XGBClassifier__learning_rate=0.01, XGBClassifier__max_depth=9, XGBClassifier__min_child_weight=1, XGBClassifier__n_estimators=100, XGBClassifier__n_jobs=1, XGBClassifier__subsample=0.45, XGBClassifier__verbosity=0)',)},\n",
              " 'KNeighborsClassifier(SelectFwe(input_matrix, SelectFwe__alpha=0.043000000000000003), KNeighborsClassifier__n_neighbors=3, KNeighborsClassifier__p=1, KNeighborsClassifier__weights=distance)': {'crossover_count': 0,\n",
              "  'generation': 1,\n",
              "  'internal_cv_score': 0.718322766932396,\n",
              "  'mutation_count': 1,\n",
              "  'operator_count': 2,\n",
              "  'predecessor': ('KNeighborsClassifier(input_matrix, KNeighborsClassifier__n_neighbors=3, KNeighborsClassifier__p=1, KNeighborsClassifier__weights=distance)',)},\n",
              " 'KNeighborsClassifier(input_matrix, KNeighborsClassifier__n_neighbors=3, KNeighborsClassifier__p=1, KNeighborsClassifier__weights=distance)': {'crossover_count': 0,\n",
              "  'generation': 0,\n",
              "  'internal_cv_score': 0.704845897934844,\n",
              "  'mutation_count': 0,\n",
              "  'operator_count': 1,\n",
              "  'predecessor': ('ROOT',)},\n",
              " 'RandomForestClassifier(MinMaxScaler(input_matrix), RandomForestClassifier__bootstrap=True, RandomForestClassifier__criterion=gini, RandomForestClassifier__max_features=0.2, RandomForestClassifier__min_samples_leaf=8, RandomForestClassifier__min_samples_split=4, RandomForestClassifier__n_estimators=100)': {'crossover_count': 0,\n",
              "  'generation': 0,\n",
              "  'internal_cv_score': 0.8059255539514154,\n",
              "  'mutation_count': 0,\n",
              "  'operator_count': 2,\n",
              "  'predecessor': ('ROOT',)},\n",
              " 'SGDClassifier(input_matrix, SGDClassifier__alpha=0.01, SGDClassifier__eta0=1.0, SGDClassifier__fit_intercept=False, SGDClassifier__l1_ratio=0.5, SGDClassifier__learning_rate=constant, SGDClassifier__loss=modified_huber, SGDClassifier__penalty=elasticnet, SGDClassifier__power_t=0.5)': {'crossover_count': 0,\n",
              "  'generation': 3,\n",
              "  'internal_cv_score': 0.5456342979097357,\n",
              "  'mutation_count': 2,\n",
              "  'operator_count': 1,\n",
              "  'predecessor': ('DecisionTreeClassifier(input_matrix, DecisionTreeClassifier__criterion=gini, DecisionTreeClassifier__max_depth=5, DecisionTreeClassifier__min_samples_leaf=9, DecisionTreeClassifier__min_samples_split=10)',)},\n",
              " 'XGBClassifier(BernoulliNB(input_matrix, BernoulliNB__alpha=0.001, BernoulliNB__fit_prior=False), XGBClassifier__learning_rate=0.01, XGBClassifier__max_depth=7, XGBClassifier__min_child_weight=1, XGBClassifier__n_estimators=100, XGBClassifier__n_jobs=1, XGBClassifier__subsample=0.8500000000000001, XGBClassifier__verbosity=0)': {'crossover_count': 0,\n",
              "  'generation': 9,\n",
              "  'internal_cv_score': 0.8305693302366455,\n",
              "  'mutation_count': 5,\n",
              "  'operator_count': 2,\n",
              "  'predecessor': ('XGBClassifier(BernoulliNB(input_matrix, BernoulliNB__alpha=0.001, BernoulliNB__fit_prior=False), XGBClassifier__learning_rate=0.01, XGBClassifier__max_depth=9, XGBClassifier__min_child_weight=1, XGBClassifier__n_estimators=100, XGBClassifier__n_jobs=1, XGBClassifier__subsample=0.8500000000000001, XGBClassifier__verbosity=0)',)},\n",
              " 'XGBClassifier(BernoulliNB(input_matrix, BernoulliNB__alpha=0.001, BernoulliNB__fit_prior=False), XGBClassifier__learning_rate=0.01, XGBClassifier__max_depth=9, XGBClassifier__min_child_weight=1, XGBClassifier__n_estimators=100, XGBClassifier__n_jobs=1, XGBClassifier__subsample=0.8500000000000001, XGBClassifier__verbosity=0)': {'crossover_count': 0,\n",
              "  'generation': 8,\n",
              "  'internal_cv_score': 0.8328165212478815,\n",
              "  'mutation_count': 4,\n",
              "  'operator_count': 2,\n",
              "  'predecessor': ('XGBClassifier(input_matrix, XGBClassifier__learning_rate=0.01, XGBClassifier__max_depth=9, XGBClassifier__min_child_weight=1, XGBClassifier__n_estimators=100, XGBClassifier__n_jobs=1, XGBClassifier__subsample=0.8500000000000001, XGBClassifier__verbosity=0)',)},\n",
              " 'XGBClassifier(BernoulliNB(input_matrix, BernoulliNB__alpha=100.0, BernoulliNB__fit_prior=False), XGBClassifier__learning_rate=0.01, XGBClassifier__max_depth=9, XGBClassifier__min_child_weight=1, XGBClassifier__n_estimators=100, XGBClassifier__n_jobs=1, XGBClassifier__subsample=0.8, XGBClassifier__verbosity=0)': {'crossover_count': 0,\n",
              "  'generation': 10,\n",
              "  'internal_cv_score': 0.8339275626137719,\n",
              "  'mutation_count': 5,\n",
              "  'operator_count': 2,\n",
              "  'predecessor': ('XGBClassifier(input_matrix, XGBClassifier__learning_rate=0.01, XGBClassifier__max_depth=9, XGBClassifier__min_child_weight=1, XGBClassifier__n_estimators=100, XGBClassifier__n_jobs=1, XGBClassifier__subsample=0.8, XGBClassifier__verbosity=0)',)},\n",
              " 'XGBClassifier(CombineDFs(input_matrix, input_matrix), XGBClassifier__learning_rate=0.01, XGBClassifier__max_depth=9, XGBClassifier__min_child_weight=1, XGBClassifier__n_estimators=100, XGBClassifier__n_jobs=1, XGBClassifier__subsample=0.8500000000000001, XGBClassifier__verbosity=0)': {'crossover_count': 0,\n",
              "  'generation': 10,\n",
              "  'internal_cv_score': 0.8372983491306257,\n",
              "  'mutation_count': 4,\n",
              "  'operator_count': 1,\n",
              "  'predecessor': ('XGBClassifier(input_matrix, XGBClassifier__learning_rate=0.01, XGBClassifier__max_depth=9, XGBClassifier__min_child_weight=1, XGBClassifier__n_estimators=100, XGBClassifier__n_jobs=1, XGBClassifier__subsample=0.8500000000000001, XGBClassifier__verbosity=0)',)},\n",
              " 'XGBClassifier(ExtraTreesClassifier(input_matrix, ExtraTreesClassifier__bootstrap=False, ExtraTreesClassifier__criterion=entropy, ExtraTreesClassifier__max_features=0.55, ExtraTreesClassifier__min_samples_leaf=17, ExtraTreesClassifier__min_samples_split=19, ExtraTreesClassifier__n_estimators=100), XGBClassifier__learning_rate=0.01, XGBClassifier__max_depth=9, XGBClassifier__min_child_weight=1, XGBClassifier__n_estimators=100, XGBClassifier__n_jobs=1, XGBClassifier__subsample=0.6000000000000001, XGBClassifier__verbosity=0)': {'crossover_count': 1,\n",
              "  'generation': 7,\n",
              "  'internal_cv_score': 0.8282907538760906,\n",
              "  'mutation_count': 6,\n",
              "  'operator_count': 2,\n",
              "  'predecessor': ('XGBClassifier(PolynomialFeatures(input_matrix, PolynomialFeatures__degree=2, PolynomialFeatures__include_bias=False, PolynomialFeatures__interaction_only=False), XGBClassifier__learning_rate=0.01, XGBClassifier__max_depth=9, XGBClassifier__min_child_weight=1, XGBClassifier__n_estimators=100, XGBClassifier__n_jobs=1, XGBClassifier__subsample=0.6000000000000001, XGBClassifier__verbosity=0)',)},\n",
              " 'XGBClassifier(ExtraTreesClassifier(input_matrix, ExtraTreesClassifier__bootstrap=True, ExtraTreesClassifier__criterion=gini, ExtraTreesClassifier__max_features=0.55, ExtraTreesClassifier__min_samples_leaf=3, ExtraTreesClassifier__min_samples_split=18, ExtraTreesClassifier__n_estimators=100), XGBClassifier__learning_rate=0.01, XGBClassifier__max_depth=9, XGBClassifier__min_child_weight=1, XGBClassifier__n_estimators=100, XGBClassifier__n_jobs=1, XGBClassifier__subsample=0.8, XGBClassifier__verbosity=0)': {'crossover_count': 0,\n",
              "  'generation': 8,\n",
              "  'internal_cv_score': 0.8249450756386919,\n",
              "  'mutation_count': 5,\n",
              "  'operator_count': 2,\n",
              "  'predecessor': ('XGBClassifier(input_matrix, XGBClassifier__learning_rate=0.01, XGBClassifier__max_depth=9, XGBClassifier__min_child_weight=1, XGBClassifier__n_estimators=100, XGBClassifier__n_jobs=1, XGBClassifier__subsample=0.8, XGBClassifier__verbosity=0)',)},\n",
              " 'XGBClassifier(FastICA(MultinomialNB(input_matrix, MultinomialNB__alpha=10.0, MultinomialNB__fit_prior=False), FastICA__tol=0.35000000000000003), XGBClassifier__learning_rate=0.01, XGBClassifier__max_depth=9, XGBClassifier__min_child_weight=13, XGBClassifier__n_estimators=100, XGBClassifier__n_jobs=1, XGBClassifier__subsample=0.45, XGBClassifier__verbosity=0)': {'crossover_count': 0,\n",
              "  'generation': 1,\n",
              "  'internal_cv_score': 0.7867365513778168,\n",
              "  'mutation_count': 1,\n",
              "  'operator_count': 3,\n",
              "  'predecessor': ('XGBClassifier(MultinomialNB(input_matrix, MultinomialNB__alpha=10.0, MultinomialNB__fit_prior=False), XGBClassifier__learning_rate=0.01, XGBClassifier__max_depth=9, XGBClassifier__min_child_weight=13, XGBClassifier__n_estimators=100, XGBClassifier__n_jobs=1, XGBClassifier__subsample=0.45, XGBClassifier__verbosity=0)',)},\n",
              " 'XGBClassifier(KNeighborsClassifier(input_matrix, KNeighborsClassifier__n_neighbors=12, KNeighborsClassifier__p=1, KNeighborsClassifier__weights=distance), XGBClassifier__learning_rate=0.01, XGBClassifier__max_depth=9, XGBClassifier__min_child_weight=1, XGBClassifier__n_estimators=100, XGBClassifier__n_jobs=1, XGBClassifier__subsample=0.8500000000000001, XGBClassifier__verbosity=0)': {'crossover_count': 0,\n",
              "  'generation': 9,\n",
              "  'internal_cv_score': 0.6891720544849664,\n",
              "  'mutation_count': 4,\n",
              "  'operator_count': 2,\n",
              "  'predecessor': ('XGBClassifier(input_matrix, XGBClassifier__learning_rate=0.01, XGBClassifier__max_depth=9, XGBClassifier__min_child_weight=1, XGBClassifier__n_estimators=100, XGBClassifier__n_jobs=1, XGBClassifier__subsample=0.8500000000000001, XGBClassifier__verbosity=0)',)},\n",
              " 'XGBClassifier(LogisticRegression(MultinomialNB(input_matrix, MultinomialNB__alpha=10.0, MultinomialNB__fit_prior=False), LogisticRegression__C=0.1, LogisticRegression__dual=False, LogisticRegression__penalty=l2), XGBClassifier__learning_rate=0.01, XGBClassifier__max_depth=9, XGBClassifier__min_child_weight=1, XGBClassifier__n_estimators=100, XGBClassifier__n_jobs=1, XGBClassifier__subsample=0.6000000000000001, XGBClassifier__verbosity=0)': {'crossover_count': 0,\n",
              "  'generation': 4,\n",
              "  'internal_cv_score': 0.8035967610319503,\n",
              "  'mutation_count': 3,\n",
              "  'operator_count': 3,\n",
              "  'predecessor': ('XGBClassifier(MultinomialNB(input_matrix, MultinomialNB__alpha=10.0, MultinomialNB__fit_prior=False), XGBClassifier__learning_rate=0.01, XGBClassifier__max_depth=9, XGBClassifier__min_child_weight=1, XGBClassifier__n_estimators=100, XGBClassifier__n_jobs=1, XGBClassifier__subsample=0.6000000000000001, XGBClassifier__verbosity=0)',)},\n",
              " 'XGBClassifier(MultinomialNB(DecisionTreeClassifier(input_matrix, DecisionTreeClassifier__criterion=gini, DecisionTreeClassifier__max_depth=9, DecisionTreeClassifier__min_samples_leaf=10, DecisionTreeClassifier__min_samples_split=5), MultinomialNB__alpha=0.001, MultinomialNB__fit_prior=False), XGBClassifier__learning_rate=0.01, XGBClassifier__max_depth=9, XGBClassifier__min_child_weight=1, XGBClassifier__n_estimators=100, XGBClassifier__n_jobs=1, XGBClassifier__subsample=0.8500000000000001, XGBClassifier__verbosity=0)': {'crossover_count': 0,\n",
              "  'generation': 8,\n",
              "  'internal_cv_score': 0.823846588412529,\n",
              "  'mutation_count': 5,\n",
              "  'operator_count': 3,\n",
              "  'predecessor': ('XGBClassifier(MultinomialNB(input_matrix, MultinomialNB__alpha=0.001, MultinomialNB__fit_prior=False), XGBClassifier__learning_rate=0.01, XGBClassifier__max_depth=9, XGBClassifier__min_child_weight=1, XGBClassifier__n_estimators=100, XGBClassifier__n_jobs=1, XGBClassifier__subsample=0.8500000000000001, XGBClassifier__verbosity=0)',)},\n",
              " 'XGBClassifier(MultinomialNB(GaussianNB(input_matrix), MultinomialNB__alpha=10.0, MultinomialNB__fit_prior=False), XGBClassifier__learning_rate=0.01, XGBClassifier__max_depth=9, XGBClassifier__min_child_weight=1, XGBClassifier__n_estimators=100, XGBClassifier__n_jobs=1, XGBClassifier__subsample=0.6000000000000001, XGBClassifier__verbosity=0)': {'crossover_count': 0,\n",
              "  'generation': 4,\n",
              "  'internal_cv_score': 0.8181846713953925,\n",
              "  'mutation_count': 3,\n",
              "  'operator_count': 3,\n",
              "  'predecessor': ('XGBClassifier(MultinomialNB(input_matrix, MultinomialNB__alpha=10.0, MultinomialNB__fit_prior=False), XGBClassifier__learning_rate=0.01, XGBClassifier__max_depth=9, XGBClassifier__min_child_weight=1, XGBClassifier__n_estimators=100, XGBClassifier__n_jobs=1, XGBClassifier__subsample=0.6000000000000001, XGBClassifier__verbosity=0)',)},\n",
              " 'XGBClassifier(MultinomialNB(LinearSVC(input_matrix, LinearSVC__C=0.5, LinearSVC__dual=True, LinearSVC__loss=hinge, LinearSVC__penalty=l2, LinearSVC__tol=1e-05), MultinomialNB__alpha=10.0, MultinomialNB__fit_prior=False), XGBClassifier__learning_rate=0.01, XGBClassifier__max_depth=9, XGBClassifier__min_child_weight=1, XGBClassifier__n_estimators=100, XGBClassifier__n_jobs=1, XGBClassifier__subsample=0.45, XGBClassifier__verbosity=0)': {'crossover_count': 0,\n",
              "  'generation': 2,\n",
              "  'internal_cv_score': 0.8182411650241669,\n",
              "  'mutation_count': 2,\n",
              "  'operator_count': 3,\n",
              "  'predecessor': ('XGBClassifier(MultinomialNB(input_matrix, MultinomialNB__alpha=10.0, MultinomialNB__fit_prior=False), XGBClassifier__learning_rate=0.01, XGBClassifier__max_depth=9, XGBClassifier__min_child_weight=1, XGBClassifier__n_estimators=100, XGBClassifier__n_jobs=1, XGBClassifier__subsample=0.45, XGBClassifier__verbosity=0)',)},\n",
              " 'XGBClassifier(MultinomialNB(input_matrix, MultinomialNB__alpha=0.001, MultinomialNB__fit_prior=False), XGBClassifier__learning_rate=0.01, XGBClassifier__max_depth=9, XGBClassifier__min_child_weight=1, XGBClassifier__n_estimators=100, XGBClassifier__n_jobs=1, XGBClassifier__subsample=0.8500000000000001, XGBClassifier__verbosity=0)': {'crossover_count': 0,\n",
              "  'generation': 6,\n",
              "  'internal_cv_score': 0.8305881614462368,\n",
              "  'mutation_count': 4,\n",
              "  'operator_count': 2,\n",
              "  'predecessor': ('XGBClassifier(input_matrix, XGBClassifier__learning_rate=0.01, XGBClassifier__max_depth=9, XGBClassifier__min_child_weight=1, XGBClassifier__n_estimators=100, XGBClassifier__n_jobs=1, XGBClassifier__subsample=0.8500000000000001, XGBClassifier__verbosity=0)',)},\n",
              " 'XGBClassifier(MultinomialNB(input_matrix, MultinomialNB__alpha=10.0, MultinomialNB__fit_prior=False), XGBClassifier__learning_rate=0.001, XGBClassifier__max_depth=9, XGBClassifier__min_child_weight=7, XGBClassifier__n_estimators=100, XGBClassifier__n_jobs=1, XGBClassifier__subsample=0.45, XGBClassifier__verbosity=0)': {'crossover_count': 1,\n",
              "  'generation': 3,\n",
              "  'internal_cv_score': 0.773316176009039,\n",
              "  'mutation_count': 2,\n",
              "  'operator_count': 2,\n",
              "  'predecessor': ('XGBClassifier(PolynomialFeatures(input_matrix, PolynomialFeatures__degree=2, PolynomialFeatures__include_bias=False, PolynomialFeatures__interaction_only=False), XGBClassifier__learning_rate=0.001, XGBClassifier__max_depth=9, XGBClassifier__min_child_weight=7, XGBClassifier__n_estimators=100, XGBClassifier__n_jobs=1, XGBClassifier__subsample=0.45, XGBClassifier__verbosity=0)',\n",
              "   'XGBClassifier(MultinomialNB(input_matrix, MultinomialNB__alpha=10.0, MultinomialNB__fit_prior=False), XGBClassifier__learning_rate=0.01, XGBClassifier__max_depth=9, XGBClassifier__min_child_weight=1, XGBClassifier__n_estimators=100, XGBClassifier__n_jobs=1, XGBClassifier__subsample=0.45, XGBClassifier__verbosity=0)')},\n",
              " 'XGBClassifier(MultinomialNB(input_matrix, MultinomialNB__alpha=10.0, MultinomialNB__fit_prior=False), XGBClassifier__learning_rate=0.01, XGBClassifier__max_depth=9, XGBClassifier__min_child_weight=1, XGBClassifier__n_estimators=100, XGBClassifier__n_jobs=1, XGBClassifier__subsample=0.45, XGBClassifier__verbosity=0)': {'crossover_count': 0,\n",
              "  'generation': 1,\n",
              "  'internal_cv_score': 0.8227167158370472,\n",
              "  'mutation_count': 1,\n",
              "  'operator_count': 2,\n",
              "  'predecessor': ('XGBClassifier(MultinomialNB(input_matrix, MultinomialNB__alpha=10.0, MultinomialNB__fit_prior=False), XGBClassifier__learning_rate=0.01, XGBClassifier__max_depth=9, XGBClassifier__min_child_weight=13, XGBClassifier__n_estimators=100, XGBClassifier__n_jobs=1, XGBClassifier__subsample=0.45, XGBClassifier__verbosity=0)',)},\n",
              " 'XGBClassifier(MultinomialNB(input_matrix, MultinomialNB__alpha=10.0, MultinomialNB__fit_prior=False), XGBClassifier__learning_rate=0.01, XGBClassifier__max_depth=9, XGBClassifier__min_child_weight=1, XGBClassifier__n_estimators=100, XGBClassifier__n_jobs=1, XGBClassifier__subsample=0.6000000000000001, XGBClassifier__verbosity=0)': {'crossover_count': 0,\n",
              "  'generation': 3,\n",
              "  'internal_cv_score': 0.8272048207896555,\n",
              "  'mutation_count': 2,\n",
              "  'operator_count': 2,\n",
              "  'predecessor': ('XGBClassifier(MultinomialNB(input_matrix, MultinomialNB__alpha=10.0, MultinomialNB__fit_prior=False), XGBClassifier__learning_rate=0.01, XGBClassifier__max_depth=9, XGBClassifier__min_child_weight=1, XGBClassifier__n_estimators=100, XGBClassifier__n_jobs=1, XGBClassifier__subsample=0.45, XGBClassifier__verbosity=0)',)},\n",
              " 'XGBClassifier(MultinomialNB(input_matrix, MultinomialNB__alpha=10.0, MultinomialNB__fit_prior=False), XGBClassifier__learning_rate=0.01, XGBClassifier__max_depth=9, XGBClassifier__min_child_weight=13, XGBClassifier__n_estimators=100, XGBClassifier__n_jobs=1, XGBClassifier__subsample=0.45, XGBClassifier__verbosity=0)': {'crossover_count': 0,\n",
              "  'generation': 0,\n",
              "  'internal_cv_score': 0.7867365513778168,\n",
              "  'mutation_count': 0,\n",
              "  'operator_count': 2,\n",
              "  'predecessor': ('ROOT',)},\n",
              " 'XGBClassifier(MultinomialNB(input_matrix, MultinomialNB__alpha=10.0, MultinomialNB__fit_prior=False), XGBClassifier__learning_rate=0.01, XGBClassifier__max_depth=9, XGBClassifier__min_child_weight=2, XGBClassifier__n_estimators=100, XGBClassifier__n_jobs=1, XGBClassifier__subsample=0.45, XGBClassifier__verbosity=0)': {'crossover_count': 0,\n",
              "  'generation': 2,\n",
              "  'internal_cv_score': 0.8081036971941498,\n",
              "  'mutation_count': 2,\n",
              "  'operator_count': 2,\n",
              "  'predecessor': ('XGBClassifier(MultinomialNB(input_matrix, MultinomialNB__alpha=10.0, MultinomialNB__fit_prior=False), XGBClassifier__learning_rate=0.01, XGBClassifier__max_depth=9, XGBClassifier__min_child_weight=1, XGBClassifier__n_estimators=100, XGBClassifier__n_jobs=1, XGBClassifier__subsample=0.45, XGBClassifier__verbosity=0)',)},\n",
              " 'XGBClassifier(Normalizer(input_matrix, Normalizer__norm=l1), XGBClassifier__learning_rate=0.01, XGBClassifier__max_depth=9, XGBClassifier__min_child_weight=1, XGBClassifier__n_estimators=100, XGBClassifier__n_jobs=1, XGBClassifier__subsample=0.45, XGBClassifier__verbosity=0)': {'crossover_count': 0,\n",
              "  'generation': 6,\n",
              "  'internal_cv_score': 0.8148013307388112,\n",
              "  'mutation_count': 3,\n",
              "  'operator_count': 2,\n",
              "  'predecessor': ('XGBClassifier(input_matrix, XGBClassifier__learning_rate=0.01, XGBClassifier__max_depth=9, XGBClassifier__min_child_weight=1, XGBClassifier__n_estimators=100, XGBClassifier__n_jobs=1, XGBClassifier__subsample=0.45, XGBClassifier__verbosity=0)',)},\n",
              " 'XGBClassifier(PCA(input_matrix, PCA__iterated_power=4, PCA__svd_solver=randomized), XGBClassifier__learning_rate=0.01, XGBClassifier__max_depth=9, XGBClassifier__min_child_weight=19, XGBClassifier__n_estimators=100, XGBClassifier__n_jobs=1, XGBClassifier__subsample=0.6000000000000001, XGBClassifier__verbosity=0)': {'crossover_count': 1,\n",
              "  'generation': 9,\n",
              "  'internal_cv_score': 0.7833908731404181,\n",
              "  'mutation_count': 7,\n",
              "  'operator_count': 2,\n",
              "  'predecessor': ('XGBClassifier(input_matrix, XGBClassifier__learning_rate=0.01, XGBClassifier__max_depth=9, XGBClassifier__min_child_weight=19, XGBClassifier__n_estimators=100, XGBClassifier__n_jobs=1, XGBClassifier__subsample=0.6000000000000001, XGBClassifier__verbosity=0)',)},\n",
              " 'XGBClassifier(PCA(input_matrix, PCA__iterated_power=9, PCA__svd_solver=randomized), XGBClassifier__learning_rate=0.5, XGBClassifier__max_depth=9, XGBClassifier__min_child_weight=1, XGBClassifier__n_estimators=100, XGBClassifier__n_jobs=1, XGBClassifier__subsample=0.8500000000000001, XGBClassifier__verbosity=0)': {'crossover_count': 0,\n",
              "  'generation': 10,\n",
              "  'internal_cv_score': 0.810344611135522,\n",
              "  'mutation_count': 5,\n",
              "  'operator_count': 2,\n",
              "  'predecessor': ('XGBClassifier(input_matrix, XGBClassifier__learning_rate=0.5, XGBClassifier__max_depth=9, XGBClassifier__min_child_weight=1, XGBClassifier__n_estimators=100, XGBClassifier__n_jobs=1, XGBClassifier__subsample=0.8500000000000001, XGBClassifier__verbosity=0)',)},\n",
              " 'XGBClassifier(PolynomialFeatures(MultinomialNB(input_matrix, MultinomialNB__alpha=10.0, MultinomialNB__fit_prior=False), PolynomialFeatures__degree=2, PolynomialFeatures__include_bias=False, PolynomialFeatures__interaction_only=False), XGBClassifier__learning_rate=0.01, XGBClassifier__max_depth=9, XGBClassifier__min_child_weight=1, XGBClassifier__n_estimators=100, XGBClassifier__n_jobs=1, XGBClassifier__subsample=0.6000000000000001, XGBClassifier__verbosity=0)': {'crossover_count': 0,\n",
              "  'generation': 4,\n",
              "  'internal_cv_score': 0.8316678174628084,\n",
              "  'mutation_count': 3,\n",
              "  'operator_count': 3,\n",
              "  'predecessor': ('XGBClassifier(MultinomialNB(input_matrix, MultinomialNB__alpha=10.0, MultinomialNB__fit_prior=False), XGBClassifier__learning_rate=0.01, XGBClassifier__max_depth=9, XGBClassifier__min_child_weight=1, XGBClassifier__n_estimators=100, XGBClassifier__n_jobs=1, XGBClassifier__subsample=0.6000000000000001, XGBClassifier__verbosity=0)',)},\n",
              " 'XGBClassifier(PolynomialFeatures(input_matrix, PolynomialFeatures__degree=2, PolynomialFeatures__include_bias=False, PolynomialFeatures__interaction_only=False), XGBClassifier__learning_rate=0.001, XGBClassifier__max_depth=6, XGBClassifier__min_child_weight=7, XGBClassifier__n_estimators=100, XGBClassifier__n_jobs=1, XGBClassifier__subsample=0.45, XGBClassifier__verbosity=0)': {'crossover_count': 0,\n",
              "  'generation': 3,\n",
              "  'internal_cv_score': 0.8148138848785388,\n",
              "  'mutation_count': 2,\n",
              "  'operator_count': 2,\n",
              "  'predecessor': ('XGBClassifier(PolynomialFeatures(input_matrix, PolynomialFeatures__degree=2, PolynomialFeatures__include_bias=False, PolynomialFeatures__interaction_only=False), XGBClassifier__learning_rate=0.001, XGBClassifier__max_depth=9, XGBClassifier__min_child_weight=7, XGBClassifier__n_estimators=100, XGBClassifier__n_jobs=1, XGBClassifier__subsample=0.45, XGBClassifier__verbosity=0)',)},\n",
              " 'XGBClassifier(PolynomialFeatures(input_matrix, PolynomialFeatures__degree=2, PolynomialFeatures__include_bias=False, PolynomialFeatures__interaction_only=False), XGBClassifier__learning_rate=0.001, XGBClassifier__max_depth=9, XGBClassifier__min_child_weight=7, XGBClassifier__n_estimators=100, XGBClassifier__n_jobs=1, XGBClassifier__subsample=0.45, XGBClassifier__verbosity=0)': {'crossover_count': 0,\n",
              "  'generation': 2,\n",
              "  'internal_cv_score': 0.8148138848785388,\n",
              "  'mutation_count': 1,\n",
              "  'operator_count': 2,\n",
              "  'predecessor': ('XGBClassifier(input_matrix, XGBClassifier__learning_rate=0.001, XGBClassifier__max_depth=9, XGBClassifier__min_child_weight=7, XGBClassifier__n_estimators=100, XGBClassifier__n_jobs=1, XGBClassifier__subsample=0.45, XGBClassifier__verbosity=0)',)},\n",
              " 'XGBClassifier(PolynomialFeatures(input_matrix, PolynomialFeatures__degree=2, PolynomialFeatures__include_bias=False, PolynomialFeatures__interaction_only=False), XGBClassifier__learning_rate=0.01, XGBClassifier__max_depth=3, XGBClassifier__min_child_weight=1, XGBClassifier__n_estimators=100, XGBClassifier__n_jobs=1, XGBClassifier__subsample=0.6000000000000001, XGBClassifier__verbosity=0)': {'crossover_count': 1,\n",
              "  'generation': 7,\n",
              "  'internal_cv_score': 0.8193082669010107,\n",
              "  'mutation_count': 6,\n",
              "  'operator_count': 2,\n",
              "  'predecessor': ('XGBClassifier(PolynomialFeatures(input_matrix, PolynomialFeatures__degree=2, PolynomialFeatures__include_bias=False, PolynomialFeatures__interaction_only=False), XGBClassifier__learning_rate=0.01, XGBClassifier__max_depth=9, XGBClassifier__min_child_weight=1, XGBClassifier__n_estimators=100, XGBClassifier__n_jobs=1, XGBClassifier__subsample=0.6000000000000001, XGBClassifier__verbosity=0)',)},\n",
              " 'XGBClassifier(PolynomialFeatures(input_matrix, PolynomialFeatures__degree=2, PolynomialFeatures__include_bias=False, PolynomialFeatures__interaction_only=False), XGBClassifier__learning_rate=0.01, XGBClassifier__max_depth=5, XGBClassifier__min_child_weight=1, XGBClassifier__n_estimators=100, XGBClassifier__n_jobs=1, XGBClassifier__subsample=0.6000000000000001, XGBClassifier__verbosity=0)': {'crossover_count': 1,\n",
              "  'generation': 7,\n",
              "  'internal_cv_score': 0.826062394074446,\n",
              "  'mutation_count': 6,\n",
              "  'operator_count': 2,\n",
              "  'predecessor': ('XGBClassifier(PolynomialFeatures(input_matrix, PolynomialFeatures__degree=2, PolynomialFeatures__include_bias=False, PolynomialFeatures__interaction_only=False), XGBClassifier__learning_rate=0.01, XGBClassifier__max_depth=9, XGBClassifier__min_child_weight=1, XGBClassifier__n_estimators=100, XGBClassifier__n_jobs=1, XGBClassifier__subsample=0.6000000000000001, XGBClassifier__verbosity=0)',)},\n",
              " 'XGBClassifier(PolynomialFeatures(input_matrix, PolynomialFeatures__degree=2, PolynomialFeatures__include_bias=False, PolynomialFeatures__interaction_only=False), XGBClassifier__learning_rate=0.01, XGBClassifier__max_depth=9, XGBClassifier__min_child_weight=1, XGBClassifier__n_estimators=100, XGBClassifier__n_jobs=1, XGBClassifier__subsample=0.6000000000000001, XGBClassifier__verbosity=0)': {'crossover_count': 1,\n",
              "  'generation': 5,\n",
              "  'internal_cv_score': 0.8305442219571904,\n",
              "  'mutation_count': 5,\n",
              "  'operator_count': 2,\n",
              "  'predecessor': ('XGBClassifier(PolynomialFeatures(MultinomialNB(input_matrix, MultinomialNB__alpha=10.0, MultinomialNB__fit_prior=False), PolynomialFeatures__degree=2, PolynomialFeatures__include_bias=False, PolynomialFeatures__interaction_only=False), XGBClassifier__learning_rate=0.01, XGBClassifier__max_depth=9, XGBClassifier__min_child_weight=1, XGBClassifier__n_estimators=100, XGBClassifier__n_jobs=1, XGBClassifier__subsample=0.6000000000000001, XGBClassifier__verbosity=0)',\n",
              "   'XGBClassifier(input_matrix, XGBClassifier__learning_rate=0.01, XGBClassifier__max_depth=9, XGBClassifier__min_child_weight=1, XGBClassifier__n_estimators=100, XGBClassifier__n_jobs=1, XGBClassifier__subsample=0.45, XGBClassifier__verbosity=0)')},\n",
              " 'XGBClassifier(RFE(input_matrix, RFE__ExtraTreesClassifier__criterion=entropy, RFE__ExtraTreesClassifier__max_features=0.5, RFE__ExtraTreesClassifier__n_estimators=100, RFE__step=0.55), XGBClassifier__learning_rate=0.01, XGBClassifier__max_depth=9, XGBClassifier__min_child_weight=1, XGBClassifier__n_estimators=100, XGBClassifier__n_jobs=1, XGBClassifier__subsample=0.8500000000000001, XGBClassifier__verbosity=0)': {'crossover_count': 0,\n",
              "  'generation': 8,\n",
              "  'internal_cv_score': 0.8237900947837551,\n",
              "  'mutation_count': 4,\n",
              "  'operator_count': 2,\n",
              "  'predecessor': ('XGBClassifier(input_matrix, XGBClassifier__learning_rate=0.01, XGBClassifier__max_depth=9, XGBClassifier__min_child_weight=1, XGBClassifier__n_estimators=100, XGBClassifier__n_jobs=1, XGBClassifier__subsample=0.8500000000000001, XGBClassifier__verbosity=0)',)},\n",
              " 'XGBClassifier(RandomForestClassifier(MultinomialNB(input_matrix, MultinomialNB__alpha=0.001, MultinomialNB__fit_prior=False), RandomForestClassifier__bootstrap=True, RandomForestClassifier__criterion=gini, RandomForestClassifier__max_features=0.25, RandomForestClassifier__min_samples_leaf=16, RandomForestClassifier__min_samples_split=19, RandomForestClassifier__n_estimators=100), XGBClassifier__learning_rate=0.01, XGBClassifier__max_depth=9, XGBClassifier__min_child_weight=1, XGBClassifier__n_estimators=100, XGBClassifier__n_jobs=1, XGBClassifier__subsample=0.8500000000000001, XGBClassifier__verbosity=0)': {'crossover_count': 0,\n",
              "  'generation': 7,\n",
              "  'internal_cv_score': 0.8238152030632101,\n",
              "  'mutation_count': 5,\n",
              "  'operator_count': 3,\n",
              "  'predecessor': ('XGBClassifier(MultinomialNB(input_matrix, MultinomialNB__alpha=0.001, MultinomialNB__fit_prior=False), XGBClassifier__learning_rate=0.01, XGBClassifier__max_depth=9, XGBClassifier__min_child_weight=1, XGBClassifier__n_estimators=100, XGBClassifier__n_jobs=1, XGBClassifier__subsample=0.8500000000000001, XGBClassifier__verbosity=0)',)},\n",
              " 'XGBClassifier(VarianceThreshold(MultinomialNB(input_matrix, MultinomialNB__alpha=10.0, MultinomialNB__fit_prior=False), VarianceThreshold__threshold=0.001), XGBClassifier__learning_rate=0.01, XGBClassifier__max_depth=9, XGBClassifier__min_child_weight=1, XGBClassifier__n_estimators=100, XGBClassifier__n_jobs=1, XGBClassifier__subsample=0.45, XGBClassifier__verbosity=0)': {'crossover_count': 0,\n",
              "  'generation': 4,\n",
              "  'internal_cv_score': 0.8227167158370472,\n",
              "  'mutation_count': 2,\n",
              "  'operator_count': 3,\n",
              "  'predecessor': ('XGBClassifier(MultinomialNB(input_matrix, MultinomialNB__alpha=10.0, MultinomialNB__fit_prior=False), XGBClassifier__learning_rate=0.01, XGBClassifier__max_depth=9, XGBClassifier__min_child_weight=1, XGBClassifier__n_estimators=100, XGBClassifier__n_jobs=1, XGBClassifier__subsample=0.45, XGBClassifier__verbosity=0)',)},\n",
              " 'XGBClassifier(VarianceThreshold(input_matrix, VarianceThreshold__threshold=0.0005), XGBClassifier__learning_rate=0.5, XGBClassifier__max_depth=9, XGBClassifier__min_child_weight=1, XGBClassifier__n_estimators=100, XGBClassifier__n_jobs=1, XGBClassifier__subsample=0.8500000000000001, XGBClassifier__verbosity=0)': {'crossover_count': 0,\n",
              "  'generation': 10,\n",
              "  'internal_cv_score': 0.8260749482141737,\n",
              "  'mutation_count': 5,\n",
              "  'operator_count': 2,\n",
              "  'predecessor': ('XGBClassifier(input_matrix, XGBClassifier__learning_rate=0.5, XGBClassifier__max_depth=9, XGBClassifier__min_child_weight=1, XGBClassifier__n_estimators=100, XGBClassifier__n_jobs=1, XGBClassifier__subsample=0.8500000000000001, XGBClassifier__verbosity=0)',)},\n",
              " 'XGBClassifier(ZeroCount(BernoulliNB(input_matrix, BernoulliNB__alpha=0.001, BernoulliNB__fit_prior=False)), XGBClassifier__learning_rate=0.01, XGBClassifier__max_depth=9, XGBClassifier__min_child_weight=1, XGBClassifier__n_estimators=100, XGBClassifier__n_jobs=1, XGBClassifier__subsample=0.8500000000000001, XGBClassifier__verbosity=0)': {'crossover_count': 0,\n",
              "  'generation': 9,\n",
              "  'internal_cv_score': 0.8305630531667818,\n",
              "  'mutation_count': 5,\n",
              "  'operator_count': 3,\n",
              "  'predecessor': ('XGBClassifier(BernoulliNB(input_matrix, BernoulliNB__alpha=0.001, BernoulliNB__fit_prior=False), XGBClassifier__learning_rate=0.01, XGBClassifier__max_depth=9, XGBClassifier__min_child_weight=1, XGBClassifier__n_estimators=100, XGBClassifier__n_jobs=1, XGBClassifier__subsample=0.8500000000000001, XGBClassifier__verbosity=0)',)},\n",
              " 'XGBClassifier(input_matrix, XGBClassifier__learning_rate=0.001, XGBClassifier__max_depth=6, XGBClassifier__min_child_weight=5, XGBClassifier__n_estimators=100, XGBClassifier__n_jobs=1, XGBClassifier__subsample=0.6500000000000001, XGBClassifier__verbosity=0)': {'crossover_count': 0,\n",
              "  'generation': 10,\n",
              "  'internal_cv_score': 0.7946017199171427,\n",
              "  'mutation_count': 4,\n",
              "  'operator_count': 1,\n",
              "  'predecessor': ('XGBClassifier(input_matrix, XGBClassifier__learning_rate=0.01, XGBClassifier__max_depth=9, XGBClassifier__min_child_weight=1, XGBClassifier__n_estimators=100, XGBClassifier__n_jobs=1, XGBClassifier__subsample=0.8500000000000001, XGBClassifier__verbosity=0)',)},\n",
              " 'XGBClassifier(input_matrix, XGBClassifier__learning_rate=0.001, XGBClassifier__max_depth=9, XGBClassifier__min_child_weight=7, XGBClassifier__n_estimators=100, XGBClassifier__n_jobs=1, XGBClassifier__subsample=0.45, XGBClassifier__verbosity=0)': {'crossover_count': 0,\n",
              "  'generation': 0,\n",
              "  'internal_cv_score': 0.7800577490427469,\n",
              "  'mutation_count': 0,\n",
              "  'operator_count': 1,\n",
              "  'predecessor': ('ROOT',)},\n",
              " 'XGBClassifier(input_matrix, XGBClassifier__learning_rate=0.01, XGBClassifier__max_depth=9, XGBClassifier__min_child_weight=1, XGBClassifier__n_estimators=100, XGBClassifier__n_jobs=1, XGBClassifier__subsample=0.4, XGBClassifier__verbosity=0)': {'crossover_count': 0,\n",
              "  'generation': 6,\n",
              "  'internal_cv_score': 0.8193459293201932,\n",
              "  'mutation_count': 4,\n",
              "  'operator_count': 1,\n",
              "  'predecessor': ('XGBClassifier(input_matrix, XGBClassifier__learning_rate=0.01, XGBClassifier__max_depth=9, XGBClassifier__min_child_weight=1, XGBClassifier__n_estimators=100, XGBClassifier__n_jobs=1, XGBClassifier__subsample=0.8500000000000001, XGBClassifier__verbosity=0)',)},\n",
              " 'XGBClassifier(input_matrix, XGBClassifier__learning_rate=0.01, XGBClassifier__max_depth=9, XGBClassifier__min_child_weight=1, XGBClassifier__n_estimators=100, XGBClassifier__n_jobs=1, XGBClassifier__subsample=0.45, XGBClassifier__verbosity=0)': {'crossover_count': 0,\n",
              "  'generation': 4,\n",
              "  'internal_cv_score': 0.8182286108844391,\n",
              "  'mutation_count': 2,\n",
              "  'operator_count': 1,\n",
              "  'predecessor': ('XGBClassifier(MultinomialNB(input_matrix, MultinomialNB__alpha=10.0, MultinomialNB__fit_prior=False), XGBClassifier__learning_rate=0.01, XGBClassifier__max_depth=9, XGBClassifier__min_child_weight=1, XGBClassifier__n_estimators=100, XGBClassifier__n_jobs=1, XGBClassifier__subsample=0.45, XGBClassifier__verbosity=0)',)},\n",
              " 'XGBClassifier(input_matrix, XGBClassifier__learning_rate=0.01, XGBClassifier__max_depth=9, XGBClassifier__min_child_weight=1, XGBClassifier__n_estimators=100, XGBClassifier__n_jobs=1, XGBClassifier__subsample=0.6000000000000001, XGBClassifier__verbosity=0)': {'crossover_count': 1,\n",
              "  'generation': 6,\n",
              "  'internal_cv_score': 0.8249701839181469,\n",
              "  'mutation_count': 5,\n",
              "  'operator_count': 1,\n",
              "  'predecessor': ('XGBClassifier(input_matrix, XGBClassifier__learning_rate=0.01, XGBClassifier__max_depth=9, XGBClassifier__min_child_weight=1, XGBClassifier__n_estimators=100, XGBClassifier__n_jobs=1, XGBClassifier__subsample=0.45, XGBClassifier__verbosity=0)',\n",
              "   'XGBClassifier(PolynomialFeatures(MultinomialNB(input_matrix, MultinomialNB__alpha=10.0, MultinomialNB__fit_prior=False), PolynomialFeatures__degree=2, PolynomialFeatures__include_bias=False, PolynomialFeatures__interaction_only=False), XGBClassifier__learning_rate=0.01, XGBClassifier__max_depth=9, XGBClassifier__min_child_weight=1, XGBClassifier__n_estimators=100, XGBClassifier__n_jobs=1, XGBClassifier__subsample=0.6000000000000001, XGBClassifier__verbosity=0)')},\n",
              " 'XGBClassifier(input_matrix, XGBClassifier__learning_rate=0.01, XGBClassifier__max_depth=9, XGBClassifier__min_child_weight=1, XGBClassifier__n_estimators=100, XGBClassifier__n_jobs=1, XGBClassifier__subsample=0.8, XGBClassifier__verbosity=0)': {'crossover_count': 0,\n",
              "  'generation': 7,\n",
              "  'internal_cv_score': 0.837323457410081,\n",
              "  'mutation_count': 4,\n",
              "  'operator_count': 1,\n",
              "  'predecessor': ('XGBClassifier(input_matrix, XGBClassifier__learning_rate=0.01, XGBClassifier__max_depth=9, XGBClassifier__min_child_weight=1, XGBClassifier__n_estimators=100, XGBClassifier__n_jobs=1, XGBClassifier__subsample=0.8500000000000001, XGBClassifier__verbosity=0)',)},\n",
              " 'XGBClassifier(input_matrix, XGBClassifier__learning_rate=0.01, XGBClassifier__max_depth=9, XGBClassifier__min_child_weight=1, XGBClassifier__n_estimators=100, XGBClassifier__n_jobs=1, XGBClassifier__subsample=0.8500000000000001, XGBClassifier__verbosity=0)': {'crossover_count': 0,\n",
              "  'generation': 5,\n",
              "  'internal_cv_score': 0.8372983491306257,\n",
              "  'mutation_count': 3,\n",
              "  'operator_count': 1,\n",
              "  'predecessor': ('XGBClassifier(input_matrix, XGBClassifier__learning_rate=0.01, XGBClassifier__max_depth=9, XGBClassifier__min_child_weight=1, XGBClassifier__n_estimators=100, XGBClassifier__n_jobs=1, XGBClassifier__subsample=0.45, XGBClassifier__verbosity=0)',)},\n",
              " 'XGBClassifier(input_matrix, XGBClassifier__learning_rate=0.01, XGBClassifier__max_depth=9, XGBClassifier__min_child_weight=19, XGBClassifier__n_estimators=100, XGBClassifier__n_jobs=1, XGBClassifier__subsample=0.6000000000000001, XGBClassifier__verbosity=0)': {'crossover_count': 1,\n",
              "  'generation': 8,\n",
              "  'internal_cv_score': 0.7867365513778168,\n",
              "  'mutation_count': 6,\n",
              "  'operator_count': 1,\n",
              "  'predecessor': ('XGBClassifier(input_matrix, XGBClassifier__learning_rate=0.01, XGBClassifier__max_depth=9, XGBClassifier__min_child_weight=1, XGBClassifier__n_estimators=100, XGBClassifier__n_jobs=1, XGBClassifier__subsample=0.6000000000000001, XGBClassifier__verbosity=0)',)},\n",
              " 'XGBClassifier(input_matrix, XGBClassifier__learning_rate=0.5, XGBClassifier__max_depth=9, XGBClassifier__min_child_weight=1, XGBClassifier__n_estimators=100, XGBClassifier__n_jobs=1, XGBClassifier__subsample=0.8500000000000001, XGBClassifier__verbosity=0)': {'crossover_count': 0,\n",
              "  'generation': 9,\n",
              "  'internal_cv_score': 0.8260749482141737,\n",
              "  'mutation_count': 4,\n",
              "  'operator_count': 1,\n",
              "  'predecessor': ('XGBClassifier(input_matrix, XGBClassifier__learning_rate=0.01, XGBClassifier__max_depth=9, XGBClassifier__min_child_weight=1, XGBClassifier__n_estimators=100, XGBClassifier__n_jobs=1, XGBClassifier__subsample=0.8500000000000001, XGBClassifier__verbosity=0)',)}}"
            ]
          },
          "metadata": {},
          "execution_count": 9
        }
      ]
    },
    {
      "cell_type": "markdown",
      "metadata": {
        "id": "RY-Ltqa8PeXJ"
      },
      "source": [
        "### テストデータの予測"
      ]
    },
    {
      "cell_type": "code",
      "metadata": {
        "colab": {
          "base_uri": "https://localhost:8080/"
        },
        "id": "T_ir1aXSgaOW",
        "outputId": "2c779155-b59c-4189-f721-c77b819f48be"
      },
      "source": [
        "# 予測\n",
        "predictions = tpot.predict(X_test)\n",
        "predictions"
      ],
      "execution_count": 10,
      "outputs": [
        {
          "output_type": "stream",
          "name": "stdout",
          "text": [
            "Imputing missing values in feature set\n"
          ]
        },
        {
          "output_type": "execute_result",
          "data": {
            "text/plain": [
              "array([0, 0, 0, 0, 0, 0, 1, 0, 1, 0, 0, 0, 1, 0, 1, 1, 0, 0, 0, 1, 0, 1,\n",
              "       1, 0, 1, 0, 1, 0, 0, 0, 0, 0, 1, 0, 1, 0, 0, 0, 0, 1, 0, 1, 0, 1,\n",
              "       1, 0, 0, 0, 1, 1, 1, 0, 1, 1, 0, 0, 0, 0, 0, 1, 0, 0, 0, 1, 0, 1,\n",
              "       1, 0, 1, 1, 1, 0, 1, 1, 1, 0, 0, 1, 0, 1, 1, 0, 0, 0, 0, 0, 1, 0,\n",
              "       0, 1, 0, 0, 1, 0, 0, 0, 1, 0, 1, 0, 1, 0, 0, 0, 1, 0, 0, 0, 0, 0,\n",
              "       0, 1, 1, 1, 1, 0, 0, 1, 0, 1, 1, 0, 1, 0, 0, 1, 0, 1, 0, 0, 0, 0,\n",
              "       0, 0, 0, 0, 0, 0, 0, 0, 0, 1, 0, 0, 0, 0, 0, 0, 0, 0, 1, 0, 0, 1,\n",
              "       0, 0, 1, 1, 0, 1, 1, 1, 1, 0, 0, 1, 0, 0, 1, 0, 0, 0, 0, 0, 0, 1,\n",
              "       1, 0, 1, 1, 0, 0, 1, 0, 1, 0, 1, 0, 0, 0, 0, 1, 0, 0, 1, 0, 1, 1,\n",
              "       0, 0, 1, 1, 0, 1, 0, 0, 1, 0, 1, 0, 0, 0, 0, 1, 0, 0, 1, 0, 1, 0,\n",
              "       1, 0, 1, 0, 1, 1, 0, 1, 0, 0, 0, 1, 0, 0, 0, 0, 0, 0, 1, 1, 1, 1,\n",
              "       1, 0, 0, 1, 1, 0, 1, 0, 1, 0, 1, 0, 0, 0, 0, 0, 1, 0, 0, 0, 1, 1,\n",
              "       0, 0, 0, 0, 0, 0, 0, 0, 1, 1, 0, 1, 0, 0, 0, 0, 0, 1, 0, 1, 1, 0,\n",
              "       0, 1, 0, 0, 0, 1, 0, 0, 0, 0, 1, 0, 0, 0, 0, 1, 0, 0, 1, 1, 0, 1,\n",
              "       1, 0, 0, 0, 0, 1, 1, 1, 0, 0, 0, 0, 0, 0, 0, 0, 1, 0, 1, 0, 0, 0,\n",
              "       1, 0, 0, 1, 0, 0, 0, 0, 0, 0, 0, 0, 0, 1, 0, 1, 0, 1, 0, 1, 1, 0,\n",
              "       0, 0, 1, 0, 1, 0, 0, 1, 0, 1, 1, 0, 1, 0, 0, 0, 1, 0, 0, 1, 0, 0,\n",
              "       1, 1, 0, 0, 0, 0, 0, 0, 1, 1, 0, 1, 0, 0, 0, 0, 1, 1, 0, 0, 0, 1,\n",
              "       0, 1, 0, 0, 1, 0, 1, 0, 1, 1, 0, 0, 1, 1, 0, 1, 0, 0, 1, 0, 0, 0])"
            ]
          },
          "metadata": {},
          "execution_count": 10
        }
      ]
    },
    {
      "cell_type": "code",
      "metadata": {
        "id": "TvDET42YNt92"
      },
      "source": [
        "# 投稿用のファイル作成\n",
        "output = pd.DataFrame({'PassengerID': test_df.PassengerId,\n",
        "                       'Survived': predictions})\n",
        "output.to_csv('submission.csv', index=False)"
      ],
      "execution_count": 11,
      "outputs": []
    },
    {
      "cell_type": "markdown",
      "metadata": {
        "id": "tFP8LHEXPf0q"
      },
      "source": [
        "## その他の機能と応用"
      ]
    },
    {
      "cell_type": "markdown",
      "metadata": {
        "id": "YHyDFcz47-8T"
      },
      "source": [
        "### パイプラインで利用するオペレーターの制御\n",
        "オペレーターおよびパラメーターの探索範囲を指定してみましょう。"
      ]
    },
    {
      "cell_type": "code",
      "metadata": {
        "id": "TgDk0a3S8hGu"
      },
      "source": [
        "# オペレータおよびパラメータを指定した辞書を作成\n",
        "tpot_config = {\n",
        "    'sklearn.naive_bayes.GaussianNB': {\n",
        "    },\n",
        " \n",
        "    'sklearn.naive_bayes.BernoulliNB': {\n",
        "        'alpha': [1e-3, 1e-2, 1e-1, 1., 10., 100.],\n",
        "        'fit_prior': [True, False]\n",
        "    },\n",
        " \n",
        "    'sklearn.naive_bayes.MultinomialNB': {\n",
        "        'alpha': [1e-3, 1e-2, 1e-1, 1., 10., 100.],\n",
        "        'fit_prior': [True, False]\n",
        "    }\n",
        "}"
      ],
      "execution_count": 12,
      "outputs": []
    },
    {
      "cell_type": "code",
      "metadata": {
        "colab": {
          "base_uri": "https://localhost:8080/",
          "height": 816,
          "referenced_widgets": [
            "1f99382ab61b487180d192f121c899c8",
            "a75d0352e0a444cfbda27ea522bf5b9f",
            "493d34d3f1d441ff9fbeeeb1c29d1a2c",
            "2a8da6d0272b46619a58dd900c688497",
            "ac4bbea9241c4154af71108c1055e239",
            "07423aa9627240f0a6a259076f8e9c73",
            "becf4f27343e4c048cc7f0b0b4e67fe3",
            "efaa020730ed4320a8f96c94b006ff76",
            "d5864726f3bb482e8d730bb33097c278",
            "9cf0f3fc795e481a81620b442c8ca4e0",
            "e6d9e63e159042b1bd3d08c491d029a4"
          ]
        },
        "id": "mlroqld_821x",
        "outputId": "c7884c35-094d-4c79-fa4c-44786d259202"
      },
      "source": [
        "# 作成した辞書を使ったモデルの学習\n",
        "tpot = TPOTClassifier(config_dict=tpot_config, verbosity=2, generations=10, random_state=42)\n",
        "tpot.fit(X_train, y_train)"
      ],
      "execution_count": 13,
      "outputs": [
        {
          "output_type": "stream",
          "name": "stdout",
          "text": [
            "Imputing missing values in feature set\n"
          ]
        },
        {
          "output_type": "display_data",
          "data": {
            "application/vnd.jupyter.widget-view+json": {
              "model_id": "1f99382ab61b487180d192f121c899c8",
              "version_minor": 0,
              "version_major": 2
            },
            "text/plain": [
              "Optimization Progress:   0%|          | 0/1100 [00:00<?, ?pipeline/s]"
            ]
          },
          "metadata": {}
        },
        {
          "output_type": "stream",
          "name": "stdout",
          "text": [
            "\n",
            "Generation 1 - Current best internal CV score: 0.7867679367271359\n",
            "\n",
            "Generation 2 - Current best internal CV score: 0.7957629778419435\n",
            "\n",
            "Generation 3 - Current best internal CV score: 0.7957629778419435\n",
            "\n",
            "Generation 4 - Current best internal CV score: 0.7957629778419435\n",
            "\n",
            "Generation 5 - Current best internal CV score: 0.7957629778419435\n",
            "\n",
            "Generation 6 - Current best internal CV score: 0.7957629778419435\n",
            "\n",
            "Generation 7 - Current best internal CV score: 0.7957629778419435\n",
            "\n",
            "Generation 8 - Current best internal CV score: 0.7957629778419435\n",
            "\n",
            "Generation 9 - Current best internal CV score: 0.7957629778419435\n",
            "\n",
            "Generation 10 - Current best internal CV score: 0.7957629778419435\n",
            "\n",
            "Best pipeline: BernoulliNB(GaussianNB(input_matrix), alpha=100.0, fit_prior=True)\n"
          ]
        },
        {
          "output_type": "execute_result",
          "data": {
            "text/plain": [
              "TPOTClassifier(config_dict={'sklearn.naive_bayes.BernoulliNB': {'alpha': [0.001,\n",
              "                                                                          0.01,\n",
              "                                                                          0.1,\n",
              "                                                                          1.0,\n",
              "                                                                          10.0,\n",
              "                                                                          100.0],\n",
              "                                                                'fit_prior': [True,\n",
              "                                                                              False]},\n",
              "                            'sklearn.naive_bayes.GaussianNB': {},\n",
              "                            'sklearn.naive_bayes.MultinomialNB': {'alpha': [0.001,\n",
              "                                                                            0.01,\n",
              "                                                                            0.1,\n",
              "                                                                            1.0,\n",
              "                                                                            10.0,\n",
              "                                                                            100.0],\n",
              "                                                                  'fit_prior': [True,\n",
              "                                                                                False]}},\n",
              "               crossover_rate=0.1, cv=5, disable_update_check=False,\n",
              "               early_stop=None, generations=10, log_file=None,\n",
              "               max_eval_time_mins=5, max_time_mins=None, memory=None,\n",
              "               mutation_rate=0.9, n_jobs=1, offspring_size=None,\n",
              "               periodic_checkpoint_folder=None, population_size=100,\n",
              "               random_state=42, scoring=None, subsample=1.0, template=None,\n",
              "               use_dask=False, verbosity=2, warm_start=False)"
            ]
          },
          "metadata": {},
          "execution_count": 13
        }
      ]
    },
    {
      "cell_type": "code",
      "metadata": {
        "colab": {
          "base_uri": "https://localhost:8080/"
        },
        "id": "IQg989rx9IHY",
        "outputId": "c4b539dc-be0c-4edb-911a-73b1aca64f50"
      },
      "source": [
        "# 最も精度の良かったパイプラインを表示\n",
        "tpot.fitted_pipeline_"
      ],
      "execution_count": 14,
      "outputs": [
        {
          "output_type": "execute_result",
          "data": {
            "text/plain": [
              "Pipeline(memory=None,\n",
              "         steps=[('stackingestimator',\n",
              "                 StackingEstimator(estimator=GaussianNB(priors=None,\n",
              "                                                        var_smoothing=1e-09))),\n",
              "                ('bernoullinb',\n",
              "                 BernoulliNB(alpha=100.0, binarize=0.0, class_prior=None,\n",
              "                             fit_prior=True))],\n",
              "         verbose=False)"
            ]
          },
          "metadata": {},
          "execution_count": 14
        }
      ]
    },
    {
      "cell_type": "markdown",
      "metadata": {
        "id": "lL7TWEnA9Lem"
      },
      "source": [
        "指定したオペレーターおよびパラメーターだけが探索範囲となり、比較的早期に学習が完了しました。"
      ]
    },
    {
      "cell_type": "markdown",
      "metadata": {
        "id": "JgmA6HrrPrmD"
      },
      "source": [
        "### 最適化したパイプラインの出力"
      ]
    },
    {
      "cell_type": "markdown",
      "metadata": {
        "id": "sZY9auQJ70Wd"
      },
      "source": [
        "以下のコードを実行すると、最適化された学習済みパイプラインをpythonスクリプトとして出力することができます。"
      ]
    },
    {
      "cell_type": "code",
      "metadata": {
        "id": "ORi90jS5_l1T"
      },
      "source": [
        "tpot.export('tpot_titanic_pipeline.py')"
      ],
      "execution_count": 15,
      "outputs": []
    },
    {
      "cell_type": "markdown",
      "metadata": {
        "id": "BBMgjf9c-7qe"
      },
      "source": [
        "以上で、タイタニックの生存予測データを使ったTPOTの紹介は終わりです。"
      ]
    }
  ]
}