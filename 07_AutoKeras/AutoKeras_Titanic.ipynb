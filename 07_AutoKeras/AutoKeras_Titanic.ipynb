{
  "nbformat": 4,
  "nbformat_minor": 0,
  "metadata": {
    "colab": {
      "name": "AutoKeras_Titanic.ipynb",
      "provenance": []
    },
    "kernelspec": {
      "name": "python3",
      "display_name": "Python 3"
    },
    "language_info": {
      "name": "python"
    }
  },
  "cells": [
    {
      "cell_type": "markdown",
      "metadata": {
        "id": "jCtWNxcNNKBJ"
      },
      "source": [
        "**AutoML OSS����i7�j**\n",
        "\n",
        "�����ݍ쐬���ł��B"
      ]
    }
  ]
}