{
  "nbformat": 4,
  "nbformat_minor": 0,
  "metadata": {
    "colab": {
      "name": "NNI_Titanic.ipynb",
      "provenance": [],
      "collapsed_sections": []
    },
    "kernelspec": {
      "name": "python3",
      "display_name": "Python 3"
    },
    "language_info": {
      "name": "python"
    }
  },
  "cells": [
    {
      "cell_type": "markdown",
      "metadata": {
        "id": "NkSZo64CFtop"
      },
      "source": [
        "**AutoML OSS入門（9）**\n",
        "\n",
        "# Web UIで学習の進行状況や結果を確認できるAutoML OSS「Neural Network Intelligence」\n",
        "\n",
        "本ノートブックの紹介記事と併せてご覧ください。\n",
        "- ＠IT連載 AutoML OSS入門（9）- 第9回「Web UIで学習の進行状況や結果を確認できるAutoML OSS「Neural Network Intelligence」」\n",
        "\n",
        "また、ノートブックの扱い方やタイタニックの生存予測データについては、連載記事の第1回も参照してください。\n",
        "- [＠IT連載 AutoML OSS入門（１）- 第1回「機械学習モデル構築作業の煩雑さを解消する「AutoML」とは――歴史、動向、利用のメリットを整理する」](https://www.atmarkit.co.jp/ait/articles/2107/02/news006.html)"
      ]
    },
    {
      "cell_type": "markdown",
      "metadata": {
        "id": "j23sKRhqIvKS"
      },
      "source": [
        "## タイタニックデータでAutoML\n",
        "タイタニックの生存予測データを使って、Neural Network Intelligence（以下、NNI）を紹介していきます。"
      ]
    },
    {
      "cell_type": "markdown",
      "metadata": {
        "id": "rk3gD9eWIvWg"
      },
      "source": [
        "### セットアップ\n",
        "Colab上でNNIを動かすために、セットアップを行います。"
      ]
    },
    {
      "cell_type": "code",
      "metadata": {
        "colab": {
          "base_uri": "https://localhost:8080/"
        },
        "id": "5O_SOyMem07a",
        "outputId": "c0235f3c-389b-41ed-9861-694eaf5918fa"
      },
      "source": [
        "!pip install nni"
      ],
      "execution_count": null,
      "outputs": [
        {
          "output_type": "stream",
          "name": "stdout",
          "text": [
            "Collecting nni\n",
            "  Downloading nni-2.5-py3-none-manylinux1_x86_64.whl (55.2 MB)\n",
            "\u001b[K     |████████████████████████████████| 55.2 MB 15 kB/s \n",
            "\u001b[?25hRequirement already satisfied: filelock in /usr/local/lib/python3.7/dist-packages (from nni) (3.4.0)\n",
            "Requirement already satisfied: scikit-learn>=0.24.1 in /usr/local/lib/python3.7/dist-packages (from nni) (1.0.1)\n",
            "Requirement already satisfied: astor in /usr/local/lib/python3.7/dist-packages (from nni) (0.8.1)\n",
            "Collecting pyyaml>=5.4\n",
            "  Downloading PyYAML-6.0-cp37-cp37m-manylinux_2_5_x86_64.manylinux1_x86_64.manylinux_2_12_x86_64.manylinux2010_x86_64.whl (596 kB)\n",
            "\u001b[K     |████████████████████████████████| 596 kB 57.7 MB/s \n",
            "\u001b[?25hRequirement already satisfied: matplotlib in /usr/local/lib/python3.7/dist-packages (from nni) (3.2.2)\n",
            "Requirement already satisfied: requests in /usr/local/lib/python3.7/dist-packages (from nni) (2.23.0)\n",
            "Collecting websockets\n",
            "  Downloading websockets-10.1-cp37-cp37m-manylinux_2_5_x86_64.manylinux1_x86_64.manylinux_2_12_x86_64.manylinux2010_x86_64.whl (111 kB)\n",
            "\u001b[K     |████████████████████████████████| 111 kB 43.9 MB/s \n",
            "\u001b[?25hRequirement already satisfied: pandas in /usr/local/lib/python3.7/dist-packages (from nni) (1.1.5)\n",
            "Requirement already satisfied: psutil in /usr/local/lib/python3.7/dist-packages (from nni) (5.4.8)\n",
            "Collecting schema\n",
            "  Downloading schema-0.7.5-py2.py3-none-any.whl (17 kB)\n",
            "Requirement already satisfied: typing-extensions in /usr/local/lib/python3.7/dist-packages (from nni) (3.10.0.2)\n",
            "Requirement already satisfied: prettytable in /usr/local/lib/python3.7/dist-packages (from nni) (2.4.0)\n",
            "Collecting PythonWebHDFS\n",
            "  Downloading PythonWebHDFS-0.2.3-py3-none-any.whl (10 kB)\n",
            "Requirement already satisfied: numpy in /usr/local/lib/python3.7/dist-packages (from nni) (1.19.5)\n",
            "Collecting json-tricks\n",
            "  Downloading json_tricks-3.15.5-py2.py3-none-any.whl (26 kB)\n",
            "Requirement already satisfied: cloudpickle in /usr/local/lib/python3.7/dist-packages (from nni) (1.3.0)\n",
            "Requirement already satisfied: scipy in /usr/local/lib/python3.7/dist-packages (from nni) (1.4.1)\n",
            "Collecting responses\n",
            "  Downloading responses-0.16.0-py2.py3-none-any.whl (35 kB)\n",
            "Collecting colorama\n",
            "  Downloading colorama-0.4.4-py2.py3-none-any.whl (16 kB)\n",
            "Requirement already satisfied: hyperopt==0.1.2 in /usr/local/lib/python3.7/dist-packages (from nni) (0.1.2)\n",
            "Requirement already satisfied: pymongo in /usr/local/lib/python3.7/dist-packages (from hyperopt==0.1.2->nni) (3.12.1)\n",
            "Requirement already satisfied: future in /usr/local/lib/python3.7/dist-packages (from hyperopt==0.1.2->nni) (0.16.0)\n",
            "Requirement already satisfied: tqdm in /usr/local/lib/python3.7/dist-packages (from hyperopt==0.1.2->nni) (4.62.3)\n",
            "Requirement already satisfied: six in /usr/local/lib/python3.7/dist-packages (from hyperopt==0.1.2->nni) (1.15.0)\n",
            "Requirement already satisfied: networkx in /usr/local/lib/python3.7/dist-packages (from hyperopt==0.1.2->nni) (2.6.3)\n",
            "Requirement already satisfied: joblib>=0.11 in /usr/local/lib/python3.7/dist-packages (from scikit-learn>=0.24.1->nni) (1.1.0)\n",
            "Requirement already satisfied: threadpoolctl>=2.0.0 in /usr/local/lib/python3.7/dist-packages (from scikit-learn>=0.24.1->nni) (3.0.0)\n",
            "Requirement already satisfied: python-dateutil>=2.1 in /usr/local/lib/python3.7/dist-packages (from matplotlib->nni) (2.8.2)\n",
            "Requirement already satisfied: kiwisolver>=1.0.1 in /usr/local/lib/python3.7/dist-packages (from matplotlib->nni) (1.3.2)\n",
            "Requirement already satisfied: pyparsing!=2.0.4,!=2.1.2,!=2.1.6,>=2.0.1 in /usr/local/lib/python3.7/dist-packages (from matplotlib->nni) (3.0.6)\n",
            "Requirement already satisfied: cycler>=0.10 in /usr/local/lib/python3.7/dist-packages (from matplotlib->nni) (0.11.0)\n",
            "Requirement already satisfied: pytz>=2017.2 in /usr/local/lib/python3.7/dist-packages (from pandas->nni) (2018.9)\n",
            "Requirement already satisfied: importlib-metadata in /usr/local/lib/python3.7/dist-packages (from prettytable->nni) (4.8.2)\n",
            "Requirement already satisfied: wcwidth in /usr/local/lib/python3.7/dist-packages (from prettytable->nni) (0.2.5)\n",
            "Requirement already satisfied: zipp>=0.5 in /usr/local/lib/python3.7/dist-packages (from importlib-metadata->prettytable->nni) (3.6.0)\n",
            "Collecting simplejson\n",
            "  Downloading simplejson-3.17.6-cp37-cp37m-manylinux_2_5_x86_64.manylinux1_x86_64.manylinux_2_12_x86_64.manylinux2010_x86_64.whl (130 kB)\n",
            "\u001b[K     |████████████████████████████████| 130 kB 28.6 MB/s \n",
            "\u001b[?25hRequirement already satisfied: certifi>=2017.4.17 in /usr/local/lib/python3.7/dist-packages (from requests->nni) (2021.10.8)\n",
            "Requirement already satisfied: idna<3,>=2.5 in /usr/local/lib/python3.7/dist-packages (from requests->nni) (2.10)\n",
            "Requirement already satisfied: chardet<4,>=3.0.2 in /usr/local/lib/python3.7/dist-packages (from requests->nni) (3.0.4)\n",
            "Requirement already satisfied: urllib3!=1.25.0,!=1.25.1,<1.26,>=1.21.1 in /usr/local/lib/python3.7/dist-packages (from requests->nni) (1.24.3)\n",
            "Collecting urllib3!=1.25.0,!=1.25.1,<1.26,>=1.21.1\n",
            "  Downloading urllib3-1.25.11-py2.py3-none-any.whl (127 kB)\n",
            "\u001b[K     |████████████████████████████████| 127 kB 34.8 MB/s \n",
            "\u001b[?25hRequirement already satisfied: contextlib2>=0.5.5 in /usr/local/lib/python3.7/dist-packages (from schema->nni) (0.5.5)\n",
            "Installing collected packages: urllib3, simplejson, websockets, schema, responses, pyyaml, PythonWebHDFS, json-tricks, colorama, nni\n",
            "  Attempting uninstall: urllib3\n",
            "    Found existing installation: urllib3 1.24.3\n",
            "    Uninstalling urllib3-1.24.3:\n",
            "      Successfully uninstalled urllib3-1.24.3\n",
            "  Attempting uninstall: pyyaml\n",
            "    Found existing installation: PyYAML 3.13\n",
            "    Uninstalling PyYAML-3.13:\n",
            "      Successfully uninstalled PyYAML-3.13\n",
            "\u001b[31mERROR: pip's dependency resolver does not currently take into account all the packages that are installed. This behaviour is the source of the following dependency conflicts.\n",
            "datascience 0.10.6 requires folium==0.2.1, but you have folium 0.8.3 which is incompatible.\u001b[0m\n",
            "Successfully installed PythonWebHDFS-0.2.3 colorama-0.4.4 json-tricks-3.15.5 nni-2.5 pyyaml-6.0 responses-0.16.0 schema-0.7.5 simplejson-3.17.6 urllib3-1.25.11 websockets-10.1\n"
          ]
        }
      ]
    },
    {
      "cell_type": "markdown",
      "metadata": {
        "id": "hXdch6SSS74r"
      },
      "source": [
        "\n",
        "### ライブラリーのインポート\n",
        "\n",
        "NNIをインポートします。"
      ]
    },
    {
      "cell_type": "code",
      "metadata": {
        "colab": {
          "base_uri": "https://localhost:8080/"
        },
        "id": "WyXcAILoF9-B",
        "outputId": "fe618839-f418-46c2-ae0b-ae03bbe3f1e1"
      },
      "source": [
        "import nni\n",
        "\n",
        "# バージョンの確認\n",
        "print(nni.__version__)"
      ],
      "execution_count": null,
      "outputs": [
        {
          "output_type": "stream",
          "name": "stdout",
          "text": [
            "2.5\n"
          ]
        }
      ]
    },
    {
      "cell_type": "markdown",
      "metadata": {
        "id": "bKszJPmPlYJE"
      },
      "source": [
        "### データのロード\n",
        "\n",
        "タイタニックの生存予測データをGitHubからダウンロードして、解凍します。"
      ]
    },
    {
      "cell_type": "code",
      "metadata": {
        "id": "rKE4ji59WdQs",
        "colab": {
          "base_uri": "https://localhost:8080/"
        },
        "outputId": "840372c0-7172-41ea-97f8-d2ee9c5794dd"
      },
      "source": [
        "!wget -N https://github.com/aiq2020-tw/automl-notebooks/raw/main/titanic.zip -P nni/\n",
        "!unzip nni/titanic.zip -d nni"
      ],
      "execution_count": null,
      "outputs": [
        {
          "output_type": "stream",
          "name": "stdout",
          "text": [
            "--2021-12-31 16:51:03--  https://github.com/aiq2020-tw/automl-notebooks/raw/main/titanic.zip\n",
            "Resolving github.com (github.com)... 140.82.114.4\n",
            "Connecting to github.com (github.com)|140.82.114.4|:443... connected.\n",
            "HTTP request sent, awaiting response... 302 Found\n",
            "Location: https://raw.githubusercontent.com/aiq2020-tw/automl-notebooks/main/titanic.zip [following]\n",
            "--2021-12-31 16:51:03--  https://raw.githubusercontent.com/aiq2020-tw/automl-notebooks/main/titanic.zip\n",
            "Resolving raw.githubusercontent.com (raw.githubusercontent.com)... 185.199.108.133, 185.199.109.133, 185.199.110.133, ...\n",
            "Connecting to raw.githubusercontent.com (raw.githubusercontent.com)|185.199.108.133|:443... connected.\n",
            "HTTP request sent, awaiting response... 200 OK\n",
            "Length: 34877 (34K) [application/zip]\n",
            "Saving to: ‘nni/titanic.zip’\n",
            "\n",
            "titanic.zip         100%[===================>]  34.06K  --.-KB/s    in 0.004s  \n",
            "\n",
            "Last-modified header missing -- time-stamps turned off.\n",
            "2021-12-31 16:51:03 (7.72 MB/s) - ‘nni/titanic.zip’ saved [34877/34877]\n",
            "\n",
            "Archive:  nni/titanic.zip\n",
            "  inflating: nni/gender_submission.csv  \n",
            "  inflating: nni/test.csv            \n",
            "  inflating: nni/train.csv           \n"
          ]
        }
      ]
    },
    {
      "cell_type": "markdown",
      "metadata": {
        "id": "WbGLS5t8CJ2k"
      },
      "source": [
        "nniディレクトリに以下の3つのファイルが展開されました。\n",
        "\n",
        "*   train.csv: 学習用のデータ\n",
        "*   test.csv: 予測用のデータ\n",
        "*   gender_submission.csv: 予測した結果をKaggleに提出するフォーマットを示すファイル"
      ]
    },
    {
      "cell_type": "markdown",
      "metadata": {
        "id": "AICJWi3GKVOD"
      },
      "source": [
        "データを読み込みます。"
      ]
    },
    {
      "cell_type": "code",
      "metadata": {
        "id": "BZhwbZu3JWzV",
        "colab": {
          "base_uri": "https://localhost:8080/"
        },
        "outputId": "e62da77a-4781-4e8a-d105-c8d58ad00af7"
      },
      "source": [
        "# 学習用データ/テストデータの読み込み\n",
        "import pandas as pd\n",
        "\n",
        "train_df = pd.read_csv('nni/train.csv')\n",
        "print('Train data shape:', train_df.shape)\n",
        "test_df = pd.read_csv('nni/test.csv')\n",
        "test_df_tmp = test_df.pop('PassengerId')\n",
        "print('Test data shape:', test_df.shape)"
      ],
      "execution_count": null,
      "outputs": [
        {
          "output_type": "stream",
          "name": "stdout",
          "text": [
            "Train data shape: (891, 12)\n",
            "Test data shape: (418, 10)\n"
          ]
        }
      ]
    },
    {
      "cell_type": "markdown",
      "metadata": {
        "id": "yTKt2cFhGfsn"
      },
      "source": [
        "### データの前処理\n",
        "データを説明変数と目的変数に分けます。<br>\n",
        "また、カテゴリカル変数は数値変数に変換します。"
      ]
    },
    {
      "cell_type": "code",
      "metadata": {
        "id": "4CoSs1-KPP0Y"
      },
      "source": [
        "# 「PassengerId」列と「Name」列は今回は使用しない\n",
        "X_train = train_df.drop(['PassengerId', 'Name'], axis=1)\n",
        "X_test = test_df.drop(['Name'], axis=1)\n",
        "# 目的変数\n",
        "y_train = X_train.pop('Survived')"
      ],
      "execution_count": null,
      "outputs": []
    },
    {
      "cell_type": "code",
      "metadata": {
        "id": "5kYj7tCnMTez",
        "colab": {
          "base_uri": "https://localhost:8080/"
        },
        "outputId": "6dda7a53-6f74-4ec3-8342-be10b210ee54"
      },
      "source": [
        "# 説明変数を数値型にする\n",
        "from sklearn.preprocessing import LabelEncoder\n",
        " \n",
        "list_cols = ['Sex', 'Ticket', 'Cabin', 'Embarked']\n",
        "for col in list_cols:\n",
        "    target_column = pd.concat([X_train[col], X_test[col]])\n",
        "    le = LabelEncoder()\n",
        "    le.fit(target_column)\n",
        "    X_train[col] = le.transform(X_train[col])\n",
        "    X_test[col] = le.transform(X_test[col])\n",
        "X_train.dtypes "
      ],
      "execution_count": null,
      "outputs": [
        {
          "output_type": "execute_result",
          "data": {
            "text/plain": [
              "Pclass        int64\n",
              "Sex           int64\n",
              "Age         float64\n",
              "SibSp         int64\n",
              "Parch         int64\n",
              "Ticket        int64\n",
              "Fare        float64\n",
              "Cabin         int64\n",
              "Embarked      int64\n",
              "dtype: object"
            ]
          },
          "metadata": {},
          "execution_count": 6
        }
      ]
    },
    {
      "cell_type": "markdown",
      "metadata": {
        "id": "PCh2rpPlbOkL"
      },
      "source": [
        "### モデルの学習\n",
        "今回は例としてXGBClassifierを使用してモデルの構築を行います。  \n",
        "まず、NNIを用いて学習を行うために必要なjson形式のSearch Spaceファイル（search_space.json）、pythonファイル（nni_xgb.py）、yaml形式のconfigファイル（config.yml）の3つのファイルを用意します。今回は使用するファイルをGitHubに用意しましたので、以下を実行しダウンロードしてください。"
      ]
    },
    {
      "cell_type": "code",
      "source": [
        "!wget -N https://github.com/aiq2020-tw/automl-notebooks/raw/main/09_NNI/files/search_space.json -P nni/\n",
        "!wget -N https://github.com/aiq2020-tw/automl-notebooks/raw/main/09_NNI/files/nni_xgb.py -P nni/\n",
        "!wget -N https://github.com/aiq2020-tw/automl-notebooks/raw/main/09_NNI/files/config.yml -P nni/"
      ],
      "metadata": {
        "colab": {
          "base_uri": "https://localhost:8080/"
        },
        "id": "tx9zxVDz0VDS",
        "outputId": "bd9630f7-2619-4f42-9747-5c0f736835e8"
      },
      "execution_count": null,
      "outputs": [
        {
          "output_type": "stream",
          "name": "stdout",
          "text": [
            "--2021-12-31 16:51:04--  https://github.com/aiq2020-tw/automl-notebooks/raw/main/09_NNI/files/search_space.json\n",
            "Resolving github.com (github.com)... 140.82.114.4\n",
            "Connecting to github.com (github.com)|140.82.114.4|:443... connected.\n",
            "HTTP request sent, awaiting response... 302 Found\n",
            "Location: https://raw.githubusercontent.com/aiq2020-tw/automl-notebooks/main/09_NNI/files/search_space.json [following]\n",
            "--2021-12-31 16:51:05--  https://raw.githubusercontent.com/aiq2020-tw/automl-notebooks/main/09_NNI/files/search_space.json\n",
            "Resolving raw.githubusercontent.com (raw.githubusercontent.com)... 185.199.108.133, 185.199.109.133, 185.199.110.133, ...\n",
            "Connecting to raw.githubusercontent.com (raw.githubusercontent.com)|185.199.108.133|:443... connected.\n",
            "HTTP request sent, awaiting response... 200 OK\n",
            "Length: 248 [text/plain]\n",
            "Saving to: ‘nni/search_space.json’\n",
            "\n",
            "search_space.json   100%[===================>]     248  --.-KB/s    in 0s      \n",
            "\n",
            "Last-modified header missing -- time-stamps turned off.\n",
            "2021-12-31 16:51:05 (12.1 MB/s) - ‘nni/search_space.json’ saved [248/248]\n",
            "\n",
            "--2021-12-31 16:51:05--  https://github.com/aiq2020-tw/automl-notebooks/raw/main/09_NNI/files/nni_xgb.py\n",
            "Resolving github.com (github.com)... 140.82.114.4\n",
            "Connecting to github.com (github.com)|140.82.114.4|:443... connected.\n",
            "HTTP request sent, awaiting response... 302 Found\n",
            "Location: https://raw.githubusercontent.com/aiq2020-tw/automl-notebooks/main/09_NNI/files/nni_xgb.py [following]\n",
            "--2021-12-31 16:51:05--  https://raw.githubusercontent.com/aiq2020-tw/automl-notebooks/main/09_NNI/files/nni_xgb.py\n",
            "Resolving raw.githubusercontent.com (raw.githubusercontent.com)... 185.199.108.133, 185.199.109.133, 185.199.110.133, ...\n",
            "Connecting to raw.githubusercontent.com (raw.githubusercontent.com)|185.199.108.133|:443... connected.\n",
            "HTTP request sent, awaiting response... 200 OK\n",
            "Length: 2888 (2.8K) [text/plain]\n",
            "Saving to: ‘nni/nni_xgb.py’\n",
            "\n",
            "nni_xgb.py          100%[===================>]   2.82K  --.-KB/s    in 0s      \n",
            "\n",
            "Last-modified header missing -- time-stamps turned off.\n",
            "2021-12-31 16:51:05 (44.0 MB/s) - ‘nni/nni_xgb.py’ saved [2888/2888]\n",
            "\n",
            "--2021-12-31 16:51:05--  https://github.com/aiq2020-tw/automl-notebooks/raw/main/09_NNI/files/config.yml\n",
            "Resolving github.com (github.com)... 140.82.113.3\n",
            "Connecting to github.com (github.com)|140.82.113.3|:443... connected.\n",
            "HTTP request sent, awaiting response... 302 Found\n",
            "Location: https://raw.githubusercontent.com/aiq2020-tw/automl-notebooks/main/09_NNI/files/config.yml [following]\n",
            "--2021-12-31 16:51:05--  https://raw.githubusercontent.com/aiq2020-tw/automl-notebooks/main/09_NNI/files/config.yml\n",
            "Resolving raw.githubusercontent.com (raw.githubusercontent.com)... 185.199.108.133, 185.199.109.133, 185.199.110.133, ...\n",
            "Connecting to raw.githubusercontent.com (raw.githubusercontent.com)|185.199.108.133|:443... connected.\n",
            "HTTP request sent, awaiting response... 200 OK\n",
            "Length: 465 [text/plain]\n",
            "Saving to: ‘nni/config.yml’\n",
            "\n",
            "config.yml          100%[===================>]     465  --.-KB/s    in 0s      \n",
            "\n",
            "Last-modified header missing -- time-stamps turned off.\n",
            "2021-12-31 16:51:06 (15.9 MB/s) - ‘nni/config.yml’ saved [465/465]\n",
            "\n"
          ]
        }
      ]
    },
    {
      "cell_type": "markdown",
      "source": [
        "ここからは、NNI公式サイトに記載のあるステップ1〜３の各ファイルについて説明します。"
      ],
      "metadata": {
        "id": "wlB1qHac5zVr"
      }
    },
    {
      "cell_type": "markdown",
      "metadata": {
        "id": "ZSrUp6uAXChz"
      },
      "source": [
        "#### ステップ1：Search Spaceを定義する  \n",
        "json形式のSearch Spaceファイル（search_space.json）を作成します。探索が必要な全てのハイパーパラメーターとその探索範囲を定義します。今回はlearning_rateやmax_depthなど４つのパラメーターについて探索します。\n",
        "```\n",
        "{\n",
        "    \"learning_rate\": {\"_type\":\"uniform\",\"_value\":[0.01, 0.2]},\n",
        "    \"max_depth\": {\"_type\":\"choice\",\"_value\":[3, 4, 5, 6]},\n",
        "    \"subsample\": {\"_type\":\"uniform\",\"_value\":[0.5, 1]},\n",
        "    \"colsample_btree\": {\"_type\":\"uniform\", \"_value\":[0.5, 1]}\n",
        "}\n",
        "```\n"
      ]
    },
    {
      "cell_type": "markdown",
      "metadata": {
        "id": "BTRxBH2PW-bl"
      },
      "source": [
        "#### ステップ2：NNIに連携するコードを追記する  \n",
        "モデル学習用pythonファイル（nni_xgb.py）を更新します。NNIからハイパーパラメーターの値を得て実行し、NNIに結果を連携するコードです。"
      ]
    },
    {
      "cell_type": "code",
      "metadata": {
        "colab": {
          "base_uri": "https://localhost:8080/"
        },
        "id": "6FRR_OUtpn2p",
        "outputId": "f43f5109-dfab-4b65-9ed0-81d833715b7d"
      },
      "source": [
        "# NNIをインポートする\n",
        "import nni\n",
        "import pandas as pd\n",
        "import xgboost as xgb\n",
        "from sklearn.model_selection import KFold, cross_val_score\n",
        "from sklearn.preprocessing import LabelEncoder\n",
        "\n",
        "\n",
        "def load_data(train_file_path):\n",
        "    \"\"\"\n",
        "    データの前処理を行う関数\n",
        "    Parameters\n",
        "    ----------\n",
        "    train_file_path : str\n",
        "        学習用データのファイルパス\n",
        "    Returns\n",
        "    -------\n",
        "    X_train : pd.DataFrame\n",
        "        学習用のデータ\n",
        "    y_train : Series\n",
        "        学習用の正解ラベル\n",
        "    \"\"\"\n",
        "    train_df = pd.read_csv(train_file_path)\n",
        "    y_train = train_df.pop('Survived')\n",
        "    X_train = train_df.drop(['PassengerId', 'Name'], axis=1)\n",
        "    list_cols = ['Sex', 'Ticket', 'Cabin', 'Embarked']\n",
        "    for col in list_cols:\n",
        "        le = LabelEncoder()\n",
        "        le.fit(X_train[col])\n",
        "        X_train[col] = le.transform(X_train[col])\n",
        "    return X_train, y_train\n",
        "\n",
        "\n",
        "def get_default_parameters():\n",
        "    \"\"\"\n",
        "    デフォルトのパラメーターを取得する関数\n",
        "    Returns\n",
        "    -------\n",
        "    params : dict\n",
        "        デフォルトのパラメーター\n",
        "    \"\"\"\n",
        "    params = {\n",
        "        'learning_rate': 0.02,\n",
        "        'n_estimators': 2000,\n",
        "        'max_depth': 4,\n",
        "        'min_child_weight': 2,\n",
        "        'gamma': 0.9,\n",
        "        'subsample': 0.8,\n",
        "        'colsample_bytree': 0.8,\n",
        "        'objective': 'binary:logistic',\n",
        "        'nthread': -1,\n",
        "        'scale_pos_weight': 1\n",
        "    }\n",
        "    return params\n",
        "\n",
        "\n",
        "def get_model(PARAMS):\n",
        "    \"\"\"\n",
        "    モデルを入手する関数\n",
        "    Parameters\n",
        "    ----------\n",
        "    PARAMS : dict\n",
        "        パラメーター\n",
        "    Returns\n",
        "    -------\n",
        "    model : xgboost.sklearn.XGBClassifier\n",
        "        学習に使用するモデル\n",
        "    \"\"\"\n",
        "    model = xgb.XGBClassifier()\n",
        "    model.learning_rate = PARAMS.get(\"learning_rate\")\n",
        "    model.max_depth = PARAMS.get(\"max_depth\")\n",
        "    model.subsample = PARAMS.get(\"subsample\")\n",
        "    model.colsample_btree = PARAMS.get(\"colsample_btree\")\n",
        "    return model\n",
        "\n",
        "\n",
        "def run(X_train, y_train, model):\n",
        "    \"\"\"\n",
        "    モデルを実行する関数\n",
        "    Parameters\n",
        "    ----------\n",
        "    X_train : pd.DataFrame\n",
        "        学習用のデータ\n",
        "    y_train : pd.DataFrame\n",
        "        学習用の正解ラベル\n",
        "    model : xgboost.sklearn.XGBClassifier\n",
        "        学習に使用するモデル\n",
        "    \"\"\"\n",
        "    scores = cross_val_score(model, X_train, y_train,\n",
        "                             scoring='accuracy', cv=KFold(n_splits=5))\n",
        "    score = scores.mean()\n",
        "    # Configurationの結果を報告する\n",
        "    nni.report_final_result(score)\n",
        "\n",
        "\n",
        "if __name__ == '__main__':\n",
        "    X_train_sub, y_train_sub = load_data('nni/train.csv')\n",
        "    # TunerからConfigurationを取得する\n",
        "    RECEIVED_PARAMS = nni.get_next_parameter()\n",
        "    PARAMS = get_default_parameters()\n",
        "    PARAMS.update(RECEIVED_PARAMS)\n",
        "    model = get_model(PARAMS)\n",
        "    run(X_train_sub, y_train_sub, model)"
      ],
      "execution_count": null,
      "outputs": [
        {
          "output_type": "stream",
          "name": "stderr",
          "text": [
            "/usr/local/lib/python3.7/dist-packages/nni/runtime/platform/standalone.py:31: RuntimeWarning: Running NNI code without runtime. Check the following tutorial if you are new to NNI: https://nni.readthedocs.io/en/stable/Tutorial/QuickStart.html#id1\n",
            "  warnings.warn(warning_message, RuntimeWarning)\n"
          ]
        },
        {
          "output_type": "stream",
          "name": "stdout",
          "text": [
            "[2021-12-31 16:51:06] INFO (nni/MainThread) Final result: 0.8226853304877283\n"
          ]
        }
      ]
    },
    {
      "cell_type": "markdown",
      "source": [
        "上記をノートブックで実行すると、Search Spaceファイルとの紐づけ前となるためPARAMSが更新されず、デフォルトで設定したパラメーターで学習を行った結果が出力されます。"
      ],
      "metadata": {
        "id": "YzQ4f6Dq4Pzg"
      }
    },
    {
      "cell_type": "markdown",
      "metadata": {
        "id": "IZLma8kBW26p"
      },
      "source": [
        "#### ステップ3：Experimentを定義する  \n",
        "yaml形式のconfigファイル（config.yml）を定義します。Search Spaceファイルやpythonファイルのパス、Tunerのアルゴリズム、最大Trial数などを記載します。\n",
        "\n",
        "```\n",
        "authorName: default\n",
        "experimentName: titanic\n",
        "trialConcurrency: 1\n",
        "maxExecDuration: 1h\n",
        "maxTrialNum: 10\n",
        "# choice: local, remote\n",
        "trainingServicePlatform: local\n",
        "searchSpacePath: search_space.json\n",
        "# choice: true, false\n",
        "useAnnotation: false\n",
        " \n",
        "tuner:\n",
        "  #choice: TPE, Random, Anneal, Evolution\n",
        "  builtinTunerName: TPE\n",
        "  classArgs:\n",
        "    #choice: maximize, minimize\n",
        "    optimize_mode: maximize\n",
        " \n",
        "trial:\n",
        "  command: python3 nni_xgb.py\n",
        "  codeDir: .\n",
        "  gpuNum: 0\n",
        "```\n",
        "\n"
      ]
    },
    {
      "cell_type": "markdown",
      "metadata": {
        "id": "qzNWdboW_HYU"
      },
      "source": [
        "では、実際にダウンロードしたファイルを使用して、学習を実行してみましょう。今回はGoogleのリバースプロキシを使用してColab上のNNIのWeb UIにアクセスしましょう。nnictl createコマンドで、config.ymlに定義された設定のExperimentを作成します。GPUを使用する場合は、config.ymlでgpuNumを1以上の値に設定してください。"
      ]
    },
    {
      "cell_type": "code",
      "source": [
        "from google.colab.output import eval_js\n",
        "!nnictl create --config nni/config.yml --port 5000 &\n",
        "print('NNI_URL:' + eval_js('google.colab.kernel.proxyPort(5000)'))"
      ],
      "metadata": {
        "colab": {
          "base_uri": "https://localhost:8080/",
          "height": 509
        },
        "id": "D85nJ-m2L1Nx",
        "outputId": "d14e1ff2-096f-4c84-af35-bcdd49d9ad6d"
      },
      "execution_count": null,
      "outputs": [
        {
          "output_type": "stream",
          "name": "stdout",
          "text": [
            "INFO:  expand searchSpacePath: search_space.json to /content/nni/search_space.json \n",
            "INFO:  expand codeDir: . to /content/nni/. \n",
            "INFO:  Starting restful server...\n",
            "INFO:  Successfully started Restful server!\n",
            "INFO:  Starting experiment...\n",
            "INFO:  Successfully started experiment!\n",
            "------------------------------------------------------------------------------------\n",
            "The experiment id is EmBlur7K\n",
            "The Web UI urls are: http://127.0.0.1:5000   http://172.28.0.2:5000\n",
            "------------------------------------------------------------------------------------\n",
            "\n",
            "You can use these commands to get more information about the experiment\n",
            "------------------------------------------------------------------------------------\n",
            "         commands                       description\n",
            "1. nnictl experiment show        show the information of experiments\n",
            "2. nnictl trial ls               list all of trial jobs\n",
            "3. nnictl top                    monitor the status of running experiments\n",
            "4. nnictl log stderr             show stderr log content\n",
            "5. nnictl log stdout             show stdout log content\n",
            "6. nnictl stop                   stop an experiment\n",
            "7. nnictl trial kill             kill a trial job by id\n",
            "8. nnictl --help                 get help information about nnictl\n",
            "------------------------------------------------------------------------------------\n",
            "Command reference document https://nni.readthedocs.io/en/latest/Tutorial/Nnictl.html\n",
            "------------------------------------------------------------------------------------\n",
            "\n",
            "NNI_URL:https://wbbhr27lxkf-496ff2e9c6d22116-5000-colab.googleusercontent.com/\n"
          ]
        }
      ]
    },
    {
      "cell_type": "markdown",
      "metadata": {
        "id": "01hh_l3OsoaX"
      },
      "source": [
        "上記の「NNI_URL:」のURLをクリックして、Web UIに遷移します。学習が終わってWeb UIで結果を確認したら、学習結果の出力とテストデータに対する予測を行いますのでノートブックに戻ってきてください。\n",
        "\n",
        "※エラーが発生した際は、6000、7000などにポート番号を変更して再度実行してみてください。"
      ]
    },
    {
      "cell_type": "code",
      "source": [
        "# 学習にかかる時間（約3分）待機\n",
        "# 「すべてのセルを実行」する方向けに記載。Web UIに遷移しGUIで学習結果を確認した方は実行不要\n",
        "\n",
        "import time\n",
        "time.sleep(180)"
      ],
      "metadata": {
        "id": "1ADYbvaqNyM5"
      },
      "execution_count": null,
      "outputs": []
    },
    {
      "cell_type": "markdown",
      "source": [
        "Experiment IDを取得するために、実行結果のログを出力します。"
      ],
      "metadata": {
        "id": "f6FpRfBcqLpi"
      }
    },
    {
      "cell_type": "code",
      "source": [
        "# Experimentに関する情報の出力\n",
        "!nnictl experiment show | sed '/^\[/d' > nni/experiment.json\n",
        "experiment_json = pd.read_json('nni/experiment.json')\n",
        "experiment_json"
      ],
      "metadata": {
        "colab": {
          "base_uri": "https://localhost:8080/",
          "height": 775
        },
        "id": "h0a4GbE7Z4Hl",
        "outputId": "21c681ad-be9f-428a-8588-07ad84cb62b1"
      },
      "execution_count": null,
      "outputs": [
        {
          "output_type": "execute_result",
          "data": {
            "text/html": [
              "\n",
              "  <div id=\"df-05729652-af4a-4e0f-963d-02822b223c77\">\n",
              "    <div class=\"colab-df-container\">\n",
              "      <div>\n",
              "<style scoped>\n",
              "    .dataframe tbody tr th:only-of-type {\n",
              "        vertical-align: middle;\n",
              "    }\n",
              "\n",
              "    .dataframe tbody tr th {\n",
              "        vertical-align: top;\n",
              "    }\n",
              "\n",
              "    .dataframe thead th {\n",
              "        text-align: right;\n",
              "    }\n",
              "</style>\n",
              "<table border=\"1\" class=\"dataframe\">\n",
              "  <thead>\n",
              "    <tr style=\"text-align: right;\">\n",
              "      <th></th>\n",
              "      <th>endTime</th>\n",
              "      <th>execDuration</th>\n",
              "      <th>id</th>\n",
              "      <th>logDir</th>\n",
              "      <th>nextSequenceId</th>\n",
              "      <th>params</th>\n",
              "      <th>revision</th>\n",
              "      <th>startTime</th>\n",
              "    </tr>\n",
              "  </thead>\n",
              "  <tbody>\n",
              "    <tr>\n",
              "      <th>debug</th>\n",
              "      <td>2021/12/31 16:53:40</td>\n",
              "      <td>150</td>\n",
              "      <td>EmBlur7K</td>\n",
              "      <td>/root/nni-experiments/EmBlur7K</td>\n",
              "      <td>10</td>\n",
              "      <td>False</td>\n",
              "      <td>28</td>\n",
              "      <td>2021/12/31 16:51:09</td>\n",
              "    </tr>\n",
              "    <tr>\n",
              "      <th>experimentName</th>\n",
              "      <td>2021/12/31 16:53:40</td>\n",
              "      <td>150</td>\n",
              "      <td>EmBlur7K</td>\n",
              "      <td>/root/nni-experiments/EmBlur7K</td>\n",
              "      <td>10</td>\n",
              "      <td>titanic</td>\n",
              "      <td>28</td>\n",
              "      <td>2021/12/31 16:51:09</td>\n",
              "    </tr>\n",
              "    <tr>\n",
              "      <th>experimentWorkingDirectory</th>\n",
              "      <td>2021/12/31 16:53:40</td>\n",
              "      <td>150</td>\n",
              "      <td>EmBlur7K</td>\n",
              "      <td>/root/nni-experiments/EmBlur7K</td>\n",
              "      <td>10</td>\n",
              "      <td>/root/nni-experiments</td>\n",
              "      <td>28</td>\n",
              "      <td>2021/12/31 16:51:09</td>\n",
              "    </tr>\n",
              "    <tr>\n",
              "      <th>maxExperimentDuration</th>\n",
              "      <td>2021/12/31 16:53:40</td>\n",
              "      <td>150</td>\n",
              "      <td>EmBlur7K</td>\n",
              "      <td>/root/nni-experiments/EmBlur7K</td>\n",
              "      <td>10</td>\n",
              "      <td>3600s</td>\n",
              "      <td>28</td>\n",
              "      <td>2021/12/31 16:51:09</td>\n",
              "    </tr>\n",
              "    <tr>\n",
              "      <th>maxTrialDuration</th>\n",
              "      <td>2021/12/31 16:53:40</td>\n",
              "      <td>150</td>\n",
              "      <td>EmBlur7K</td>\n",
              "      <td>/root/nni-experiments/EmBlur7K</td>\n",
              "      <td>10</td>\n",
              "      <td>999d</td>\n",
              "      <td>28</td>\n",
              "      <td>2021/12/31 16:51:09</td>\n",
              "    </tr>\n",
              "    <tr>\n",
              "      <th>maxTrialNumber</th>\n",
              "      <td>2021/12/31 16:53:40</td>\n",
              "      <td>150</td>\n",
              "      <td>EmBlur7K</td>\n",
              "      <td>/root/nni-experiments/EmBlur7K</td>\n",
              "      <td>10</td>\n",
              "      <td>10</td>\n",
              "      <td>28</td>\n",
              "      <td>2021/12/31 16:51:09</td>\n",
              "    </tr>\n",
              "    <tr>\n",
              "      <th>searchSpace</th>\n",
              "      <td>2021/12/31 16:53:40</td>\n",
              "      <td>150</td>\n",
              "      <td>EmBlur7K</td>\n",
              "      <td>/root/nni-experiments/EmBlur7K</td>\n",
              "      <td>10</td>\n",
              "      <td>{'colsample_btree': {'_type': 'uniform', '_val...</td>\n",
              "      <td>28</td>\n",
              "      <td>2021/12/31 16:51:09</td>\n",
              "    </tr>\n",
              "    <tr>\n",
              "      <th>trainingService</th>\n",
              "      <td>2021/12/31 16:53:40</td>\n",
              "      <td>150</td>\n",
              "      <td>EmBlur7K</td>\n",
              "      <td>/root/nni-experiments/EmBlur7K</td>\n",
              "      <td>10</td>\n",
              "      <td>{'maxTrialNumberPerGpu': 1, 'platform': 'local...</td>\n",
              "      <td>28</td>\n",
              "      <td>2021/12/31 16:51:09</td>\n",
              "    </tr>\n",
              "    <tr>\n",
              "      <th>trialCodeDirectory</th>\n",
              "      <td>2021/12/31 16:53:40</td>\n",
              "      <td>150</td>\n",
              "      <td>EmBlur7K</td>\n",
              "      <td>/root/nni-experiments/EmBlur7K</td>\n",
              "      <td>10</td>\n",
              "      <td>/content/nni</td>\n",
              "      <td>28</td>\n",
              "      <td>2021/12/31 16:51:09</td>\n",
              "    </tr>\n",
              "    <tr>\n",
              "      <th>trialCommand</th>\n",
              "      <td>2021/12/31 16:53:40</td>\n",
              "      <td>150</td>\n",
              "      <td>EmBlur7K</td>\n",
              "      <td>/root/nni-experiments/EmBlur7K</td>\n",
              "      <td>10</td>\n",
              "      <td>python3 nni_xgb.py</td>\n",
              "      <td>28</td>\n",
              "      <td>2021/12/31 16:51:09</td>\n",
              "    </tr>\n",
              "    <tr>\n",
              "      <th>trialConcurrency</th>\n",
              "      <td>2021/12/31 16:53:40</td>\n",
              "      <td>150</td>\n",
              "      <td>EmBlur7K</td>\n",
              "      <td>/root/nni-experiments/EmBlur7K</td>\n",
              "      <td>10</td>\n",
              "      <td>1</td>\n",
              "      <td>28</td>\n",
              "      <td>2021/12/31 16:51:09</td>\n",
              "    </tr>\n",
              "    <tr>\n",
              "      <th>trialGpuNumber</th>\n",
              "      <td>2021/12/31 16:53:40</td>\n",
              "      <td>150</td>\n",
              "      <td>EmBlur7K</td>\n",
              "      <td>/root/nni-experiments/EmBlur7K</td>\n",
              "      <td>10</td>\n",
              "      <td>0</td>\n",
              "      <td>28</td>\n",
              "      <td>2021/12/31 16:51:09</td>\n",
              "    </tr>\n",
              "    <tr>\n",
              "      <th>tuner</th>\n",
              "      <td>2021/12/31 16:53:40</td>\n",
              "      <td>150</td>\n",
              "      <td>EmBlur7K</td>\n",
              "      <td>/root/nni-experiments/EmBlur7K</td>\n",
              "      <td>10</td>\n",
              "      <td>{'classArgs': {'optimize_mode': 'maximize'}, '...</td>\n",
              "      <td>28</td>\n",
              "      <td>2021/12/31 16:51:09</td>\n",
              "    </tr>\n",
              "    <tr>\n",
              "      <th>useAnnotation</th>\n",
              "      <td>2021/12/31 16:53:40</td>\n",
              "      <td>150</td>\n",
              "      <td>EmBlur7K</td>\n",
              "      <td>/root/nni-experiments/EmBlur7K</td>\n",
              "      <td>10</td>\n",
              "      <td>False</td>\n",
              "      <td>28</td>\n",
              "      <td>2021/12/31 16:51:09</td>\n",
              "    </tr>\n",
              "  </tbody>\n",
              "</table>\n",
              "</div>\n",
              "      <button class=\"colab-df-convert\" onclick=\"convertToInteractive('df-05729652-af4a-4e0f-963d-02822b223c77')\"\n",
              "              title=\"Convert this dataframe to an interactive table.\"\n",
              "              style=\"display:none;\">\n",
              "        \n",
              "  <svg xmlns=\"http://www.w3.org/2000/svg\" height=\"24px\"viewBox=\"0 0 24 24\"\n",
              "       width=\"24px\">\n",
              "    <path d=\"M0 0h24v24H0V0z\" fill=\"none\"/>\n",
              "    <path d=\"M18.56 5.44l.94 2.06.94-2.06 2.06-.94-2.06-.94-.94-2.06-.94 2.06-2.06.94zm-11 1L8.5 8.5l.94-2.06 2.06-.94-2.06-.94L8.5 2.5l-.94 2.06-2.06.94zm10 10l.94 2.06.94-2.06 2.06-.94-2.06-.94-.94-2.06-.94 2.06-2.06.94z\"/><path d=\"M17.41 7.96l-1.37-1.37c-.4-.4-.92-.59-1.43-.59-.52 0-1.04.2-1.43.59L10.3 9.45l-7.72 7.72c-.78.78-.78 2.05 0 2.83L4 21.41c.39.39.9.59 1.41.59.51 0 1.02-.2 1.41-.59l7.78-7.78 2.81-2.81c.8-.78.8-2.07 0-2.86zM5.41 20L4 18.59l7.72-7.72 1.47 1.35L5.41 20z\"/>\n",
              "  </svg>\n",
              "      </button>\n",
              "      \n",
              "  <style>\n",
              "    .colab-df-container {\n",
              "      display:flex;\n",
              "      flex-wrap:wrap;\n",
              "      gap: 12px;\n",
              "    }\n",
              "\n",
              "    .colab-df-convert {\n",
              "      background-color: #E8F0FE;\n",
              "      border: none;\n",
              "      border-radius: 50%;\n",
              "      cursor: pointer;\n",
              "      display: none;\n",
              "      fill: #1967D2;\n",
              "      height: 32px;\n",
              "      padding: 0 0 0 0;\n",
              "      width: 32px;\n",
              "    }\n",
              "\n",
              "    .colab-df-convert:hover {\n",
              "      background-color: #E2EBFA;\n",
              "      box-shadow: 0px 1px 2px rgba(60, 64, 67, 0.3), 0px 1px 3px 1px rgba(60, 64, 67, 0.15);\n",
              "      fill: #174EA6;\n",
              "    }\n",
              "\n",
              "    [theme=dark] .colab-df-convert {\n",
              "      background-color: #3B4455;\n",
              "      fill: #D2E3FC;\n",
              "    }\n",
              "\n",
              "    [theme=dark] .colab-df-convert:hover {\n",
              "      background-color: #434B5C;\n",
              "      box-shadow: 0px 1px 3px 1px rgba(0, 0, 0, 0.15);\n",
              "      filter: drop-shadow(0px 1px 2px rgba(0, 0, 0, 0.3));\n",
              "      fill: #FFFFFF;\n",
              "    }\n",
              "  </style>\n",
              "\n",
              "      <script>\n",
              "        const buttonEl =\n",
              "          document.querySelector('#df-05729652-af4a-4e0f-963d-02822b223c77 button.colab-df-convert');\n",
              "        buttonEl.style.display =\n",
              "          google.colab.kernel.accessAllowed ? 'block' : 'none';\n",
              "\n",
              "        async function convertToInteractive(key) {\n",
              "          const element = document.querySelector('#df-05729652-af4a-4e0f-963d-02822b223c77');\n",
              "          const dataTable =\n",
              "            await google.colab.kernel.invokeFunction('convertToInteractive',\n",
              "                                                     [key], {});\n",
              "          if (!dataTable) return;\n",
              "\n",
              "          const docLinkHtml = 'Like what you see? Visit the ' +\n",
              "            '<a target=\"_blank\" href=https://colab.research.google.com/notebooks/data_table.ipynb>data table notebook</a>'\n",
              "            + ' to learn more about interactive tables.';\n",
              "          element.innerHTML = '';\n",
              "          dataTable['output_type'] = 'display_data';\n",
              "          await google.colab.output.renderOutput(dataTable, element);\n",
              "          const docLink = document.createElement('div');\n",
              "          docLink.innerHTML = docLinkHtml;\n",
              "          element.appendChild(docLink);\n",
              "        }\n",
              "      </script>\n",
              "    </div>\n",
              "  </div>\n",
              "  "
            ],
            "text/plain": [
              "                                        endTime  ...            startTime\n",
              "debug                       2021/12/31 16:53:40  ...  2021/12/31 16:51:09\n",
              "experimentName              2021/12/31 16:53:40  ...  2021/12/31 16:51:09\n",
              "experimentWorkingDirectory  2021/12/31 16:53:40  ...  2021/12/31 16:51:09\n",
              "maxExperimentDuration       2021/12/31 16:53:40  ...  2021/12/31 16:51:09\n",
              "maxTrialDuration            2021/12/31 16:53:40  ...  2021/12/31 16:51:09\n",
              "maxTrialNumber              2021/12/31 16:53:40  ...  2021/12/31 16:51:09\n",
              "searchSpace                 2021/12/31 16:53:40  ...  2021/12/31 16:51:09\n",
              "trainingService             2021/12/31 16:53:40  ...  2021/12/31 16:51:09\n",
              "trialCodeDirectory          2021/12/31 16:53:40  ...  2021/12/31 16:51:09\n",
              "trialCommand                2021/12/31 16:53:40  ...  2021/12/31 16:51:09\n",
              "trialConcurrency            2021/12/31 16:53:40  ...  2021/12/31 16:51:09\n",
              "trialGpuNumber              2021/12/31 16:53:40  ...  2021/12/31 16:51:09\n",
              "tuner                       2021/12/31 16:53:40  ...  2021/12/31 16:51:09\n",
              "useAnnotation               2021/12/31 16:53:40  ...  2021/12/31 16:51:09\n",
              "\n",
              "[14 rows x 8 columns]"
            ]
          },
          "metadata": {},
          "execution_count": 11
        }
      ]
    },
    {
      "cell_type": "markdown",
      "metadata": {
        "id": "x42kwe4jNn1g"
      },
      "source": [
        "学習に使用したパラメーターと精度結果をcsvファイルで出力します。"
      ]
    },
    {
      "cell_type": "code",
      "metadata": {
        "id": "yv1T9qfW0I0M",
        "colab": {
          "base_uri": "https://localhost:8080/",
          "height": 363
        },
        "outputId": "20905447-784d-4d27-f034-f3a217abb14f"
      },
      "source": [
        "# Experiment IDの取得\n",
        "experiment_id = experiment_json['id']['experimentName']\n",
        "\n",
        "# 結果の取得\n",
        "!nnictl experiment export $experiment_id --filename nni/nni_output.csv --type csv --intermediate\n",
        "\n",
        "param_df = pd.read_csv('nni/nni_output.csv')\n",
        "param_df"
      ],
      "execution_count": null,
      "outputs": [
        {
          "output_type": "execute_result",
          "data": {
            "text/html": [
              "\n",
              "  <div id=\"df-b120fd47-14ba-4099-94ea-edff38b5a684\">\n",
              "    <div class=\"colab-df-container\">\n",
              "      <div>\n",
              "<style scoped>\n",
              "    .dataframe tbody tr th:only-of-type {\n",
              "        vertical-align: middle;\n",
              "    }\n",
              "\n",
              "    .dataframe tbody tr th {\n",
              "        vertical-align: top;\n",
              "    }\n",
              "\n",
              "    .dataframe thead th {\n",
              "        text-align: right;\n",
              "    }\n",
              "</style>\n",
              "<table border=\"1\" class=\"dataframe\">\n",
              "  <thead>\n",
              "    <tr style=\"text-align: right;\">\n",
              "      <th></th>\n",
              "      <th>trialJobId</th>\n",
              "      <th>reward</th>\n",
              "      <th>learning_rate</th>\n",
              "      <th>intermediate</th>\n",
              "      <th>subsample</th>\n",
              "      <th>max_depth</th>\n",
              "      <th>colsample_btree</th>\n",
              "    </tr>\n",
              "  </thead>\n",
              "  <tbody>\n",
              "    <tr>\n",
              "      <th>0</th>\n",
              "      <td>W0S6z</td>\n",
              "      <td>0.820488</td>\n",
              "      <td>0.195918</td>\n",
              "      <td>[0.8204883560354027]</td>\n",
              "      <td>0.532899</td>\n",
              "      <td>4</td>\n",
              "      <td>0.532302</td>\n",
              "    </tr>\n",
              "    <tr>\n",
              "      <th>1</th>\n",
              "      <td>L4dYT</td>\n",
              "      <td>0.828291</td>\n",
              "      <td>0.050448</td>\n",
              "      <td>[0.8282907538760906]</td>\n",
              "      <td>0.511832</td>\n",
              "      <td>3</td>\n",
              "      <td>0.545416</td>\n",
              "    </tr>\n",
              "    <tr>\n",
              "      <th>2</th>\n",
              "      <td>uY2z2</td>\n",
              "      <td>0.833946</td>\n",
              "      <td>0.181953</td>\n",
              "      <td>[0.8339463938233633]</td>\n",
              "      <td>0.865557</td>\n",
              "      <td>6</td>\n",
              "      <td>0.740193</td>\n",
              "    </tr>\n",
              "    <tr>\n",
              "      <th>3</th>\n",
              "      <td>iC9IV</td>\n",
              "      <td>0.830550</td>\n",
              "      <td>0.038864</td>\n",
              "      <td>[0.8305504990270542]</td>\n",
              "      <td>0.616074</td>\n",
              "      <td>5</td>\n",
              "      <td>0.935602</td>\n",
              "    </tr>\n",
              "    <tr>\n",
              "      <th>4</th>\n",
              "      <td>vKm0m</td>\n",
              "      <td>0.838428</td>\n",
              "      <td>0.107173</td>\n",
              "      <td>[0.8384282217061075]</td>\n",
              "      <td>0.619469</td>\n",
              "      <td>5</td>\n",
              "      <td>0.898403</td>\n",
              "    </tr>\n",
              "    <tr>\n",
              "      <th>5</th>\n",
              "      <td>HwLez</td>\n",
              "      <td>0.832848</td>\n",
              "      <td>0.110298</td>\n",
              "      <td>[0.8328479065972004]</td>\n",
              "      <td>0.634807</td>\n",
              "      <td>5</td>\n",
              "      <td>0.648388</td>\n",
              "    </tr>\n",
              "    <tr>\n",
              "      <th>6</th>\n",
              "      <td>m7GLv</td>\n",
              "      <td>0.829452</td>\n",
              "      <td>0.069079</td>\n",
              "      <td>[0.8294520118008913]</td>\n",
              "      <td>0.904239</td>\n",
              "      <td>4</td>\n",
              "      <td>0.998973</td>\n",
              "    </tr>\n",
              "    <tr>\n",
              "      <th>7</th>\n",
              "      <td>wQfkc</td>\n",
              "      <td>0.829446</td>\n",
              "      <td>0.199121</td>\n",
              "      <td>[0.8294457347310276]</td>\n",
              "      <td>0.508136</td>\n",
              "      <td>5</td>\n",
              "      <td>0.985524</td>\n",
              "    </tr>\n",
              "    <tr>\n",
              "      <th>8</th>\n",
              "      <td>wlE5i</td>\n",
              "      <td>0.831705</td>\n",
              "      <td>0.079293</td>\n",
              "      <td>[0.8317054798819911]</td>\n",
              "      <td>0.821556</td>\n",
              "      <td>4</td>\n",
              "      <td>0.786905</td>\n",
              "    </tr>\n",
              "    <tr>\n",
              "      <th>9</th>\n",
              "      <td>RGObI</td>\n",
              "      <td>0.838434</td>\n",
              "      <td>0.102719</td>\n",
              "      <td>[0.8384344987759714]</td>\n",
              "      <td>0.904698</td>\n",
              "      <td>6</td>\n",
              "      <td>0.981645</td>\n",
              "    </tr>\n",
              "  </tbody>\n",
              "</table>\n",
              "</div>\n",
              "      <button class=\"colab-df-convert\" onclick=\"convertToInteractive('df-b120fd47-14ba-4099-94ea-edff38b5a684')\"\n",
              "              title=\"Convert this dataframe to an interactive table.\"\n",
              "              style=\"display:none;\">\n",
              "        \n",
              "  <svg xmlns=\"http://www.w3.org/2000/svg\" height=\"24px\"viewBox=\"0 0 24 24\"\n",
              "       width=\"24px\">\n",
              "    <path d=\"M0 0h24v24H0V0z\" fill=\"none\"/>\n",
              "    <path d=\"M18.56 5.44l.94 2.06.94-2.06 2.06-.94-2.06-.94-.94-2.06-.94 2.06-2.06.94zm-11 1L8.5 8.5l.94-2.06 2.06-.94-2.06-.94L8.5 2.5l-.94 2.06-2.06.94zm10 10l.94 2.06.94-2.06 2.06-.94-2.06-.94-.94-2.06-.94 2.06-2.06.94z\"/><path d=\"M17.41 7.96l-1.37-1.37c-.4-.4-.92-.59-1.43-.59-.52 0-1.04.2-1.43.59L10.3 9.45l-7.72 7.72c-.78.78-.78 2.05 0 2.83L4 21.41c.39.39.9.59 1.41.59.51 0 1.02-.2 1.41-.59l7.78-7.78 2.81-2.81c.8-.78.8-2.07 0-2.86zM5.41 20L4 18.59l7.72-7.72 1.47 1.35L5.41 20z\"/>\n",
              "  </svg>\n",
              "      </button>\n",
              "      \n",
              "  <style>\n",
              "    .colab-df-container {\n",
              "      display:flex;\n",
              "      flex-wrap:wrap;\n",
              "      gap: 12px;\n",
              "    }\n",
              "\n",
              "    .colab-df-convert {\n",
              "      background-color: #E8F0FE;\n",
              "      border: none;\n",
              "      border-radius: 50%;\n",
              "      cursor: pointer;\n",
              "      display: none;\n",
              "      fill: #1967D2;\n",
              "      height: 32px;\n",
              "      padding: 0 0 0 0;\n",
              "      width: 32px;\n",
              "    }\n",
              "\n",
              "    .colab-df-convert:hover {\n",
              "      background-color: #E2EBFA;\n",
              "      box-shadow: 0px 1px 2px rgba(60, 64, 67, 0.3), 0px 1px 3px 1px rgba(60, 64, 67, 0.15);\n",
              "      fill: #174EA6;\n",
              "    }\n",
              "\n",
              "    [theme=dark] .colab-df-convert {\n",
              "      background-color: #3B4455;\n",
              "      fill: #D2E3FC;\n",
              "    }\n",
              "\n",
              "    [theme=dark] .colab-df-convert:hover {\n",
              "      background-color: #434B5C;\n",
              "      box-shadow: 0px 1px 3px 1px rgba(0, 0, 0, 0.15);\n",
              "      filter: drop-shadow(0px 1px 2px rgba(0, 0, 0, 0.3));\n",
              "      fill: #FFFFFF;\n",
              "    }\n",
              "  </style>\n",
              "\n",
              "      <script>\n",
              "        const buttonEl =\n",
              "          document.querySelector('#df-b120fd47-14ba-4099-94ea-edff38b5a684 button.colab-df-convert');\n",
              "        buttonEl.style.display =\n",
              "          google.colab.kernel.accessAllowed ? 'block' : 'none';\n",
              "\n",
              "        async function convertToInteractive(key) {\n",
              "          const element = document.querySelector('#df-b120fd47-14ba-4099-94ea-edff38b5a684');\n",
              "          const dataTable =\n",
              "            await google.colab.kernel.invokeFunction('convertToInteractive',\n",
              "                                                     [key], {});\n",
              "          if (!dataTable) return;\n",
              "\n",
              "          const docLinkHtml = 'Like what you see? Visit the ' +\n",
              "            '<a target=\"_blank\" href=https://colab.research.google.com/notebooks/data_table.ipynb>data table notebook</a>'\n",
              "            + ' to learn more about interactive tables.';\n",
              "          element.innerHTML = '';\n",
              "          dataTable['output_type'] = 'display_data';\n",
              "          await google.colab.output.renderOutput(dataTable, element);\n",
              "          const docLink = document.createElement('div');\n",
              "          docLink.innerHTML = docLinkHtml;\n",
              "          element.appendChild(docLink);\n",
              "        }\n",
              "      </script>\n",
              "    </div>\n",
              "  </div>\n",
              "  "
            ],
            "text/plain": [
              "  trialJobId    reward  learning_rate  ... subsample  max_depth  colsample_btree\n",
              "0      W0S6z  0.820488       0.195918  ...  0.532899          4         0.532302\n",
              "1      L4dYT  0.828291       0.050448  ...  0.511832          3         0.545416\n",
              "2      uY2z2  0.833946       0.181953  ...  0.865557          6         0.740193\n",
              "3      iC9IV  0.830550       0.038864  ...  0.616074          5         0.935602\n",
              "4      vKm0m  0.838428       0.107173  ...  0.619469          5         0.898403\n",
              "5      HwLez  0.832848       0.110298  ...  0.634807          5         0.648388\n",
              "6      m7GLv  0.829452       0.069079  ...  0.904239          4         0.998973\n",
              "7      wQfkc  0.829446       0.199121  ...  0.508136          5         0.985524\n",
              "8      wlE5i  0.831705       0.079293  ...  0.821556          4         0.786905\n",
              "9      RGObI  0.838434       0.102719  ...  0.904698          6         0.981645\n",
              "\n",
              "[10 rows x 7 columns]"
            ]
          },
          "metadata": {},
          "execution_count": 12
        }
      ]
    },
    {
      "cell_type": "markdown",
      "metadata": {
        "id": "rfJNuuGYewyC"
      },
      "source": [
        "### 予測\n",
        "\n",
        "精度が一番良かったパラメーターで学習したモデルを用いてテストデータの予測を行い、Kaggleに提出して予測精度を確認します。"
      ]
    },
    {
      "cell_type": "code",
      "metadata": {
        "colab": {
          "base_uri": "https://localhost:8080/",
          "height": 81
        },
        "id": "t5dj1gBZkQll",
        "outputId": "88a3f72c-43d4-4322-b339-6ba6c52945a0"
      },
      "source": [
        "# 精度が一番良かったパラメータを取得する\n",
        "best_param_df = param_df.loc[[param_df['reward'].idxmax()]]\n",
        "best_param_df"
      ],
      "execution_count": null,
      "outputs": [
        {
          "output_type": "execute_result",
          "data": {
            "text/html": [
              "\n",
              "  <div id=\"df-d73afe83-0ce3-42ce-b843-c382481153b7\">\n",
              "    <div class=\"colab-df-container\">\n",
              "      <div>\n",
              "<style scoped>\n",
              "    .dataframe tbody tr th:only-of-type {\n",
              "        vertical-align: middle;\n",
              "    }\n",
              "\n",
              "    .dataframe tbody tr th {\n",
              "        vertical-align: top;\n",
              "    }\n",
              "\n",
              "    .dataframe thead th {\n",
              "        text-align: right;\n",
              "    }\n",
              "</style>\n",
              "<table border=\"1\" class=\"dataframe\">\n",
              "  <thead>\n",
              "    <tr style=\"text-align: right;\">\n",
              "      <th></th>\n",
              "      <th>trialJobId</th>\n",
              "      <th>reward</th>\n",
              "      <th>learning_rate</th>\n",
              "      <th>intermediate</th>\n",
              "      <th>subsample</th>\n",
              "      <th>max_depth</th>\n",
              "      <th>colsample_btree</th>\n",
              "    </tr>\n",
              "  </thead>\n",
              "  <tbody>\n",
              "    <tr>\n",
              "      <th>9</th>\n",
              "      <td>RGObI</td>\n",
              "      <td>0.838434</td>\n",
              "      <td>0.102719</td>\n",
              "      <td>[0.8384344987759714]</td>\n",
              "      <td>0.904698</td>\n",
              "      <td>6</td>\n",
              "      <td>0.981645</td>\n",
              "    </tr>\n",
              "  </tbody>\n",
              "</table>\n",
              "</div>\n",
              "      <button class=\"colab-df-convert\" onclick=\"convertToInteractive('df-d73afe83-0ce3-42ce-b843-c382481153b7')\"\n",
              "              title=\"Convert this dataframe to an interactive table.\"\n",
              "              style=\"display:none;\">\n",
              "        \n",
              "  <svg xmlns=\"http://www.w3.org/2000/svg\" height=\"24px\"viewBox=\"0 0 24 24\"\n",
              "       width=\"24px\">\n",
              "    <path d=\"M0 0h24v24H0V0z\" fill=\"none\"/>\n",
              "    <path d=\"M18.56 5.44l.94 2.06.94-2.06 2.06-.94-2.06-.94-.94-2.06-.94 2.06-2.06.94zm-11 1L8.5 8.5l.94-2.06 2.06-.94-2.06-.94L8.5 2.5l-.94 2.06-2.06.94zm10 10l.94 2.06.94-2.06 2.06-.94-2.06-.94-.94-2.06-.94 2.06-2.06.94z\"/><path d=\"M17.41 7.96l-1.37-1.37c-.4-.4-.92-.59-1.43-.59-.52 0-1.04.2-1.43.59L10.3 9.45l-7.72 7.72c-.78.78-.78 2.05 0 2.83L4 21.41c.39.39.9.59 1.41.59.51 0 1.02-.2 1.41-.59l7.78-7.78 2.81-2.81c.8-.78.8-2.07 0-2.86zM5.41 20L4 18.59l7.72-7.72 1.47 1.35L5.41 20z\"/>\n",
              "  </svg>\n",
              "      </button>\n",
              "      \n",
              "  <style>\n",
              "    .colab-df-container {\n",
              "      display:flex;\n",
              "      flex-wrap:wrap;\n",
              "      gap: 12px;\n",
              "    }\n",
              "\n",
              "    .colab-df-convert {\n",
              "      background-color: #E8F0FE;\n",
              "      border: none;\n",
              "      border-radius: 50%;\n",
              "      cursor: pointer;\n",
              "      display: none;\n",
              "      fill: #1967D2;\n",
              "      height: 32px;\n",
              "      padding: 0 0 0 0;\n",
              "      width: 32px;\n",
              "    }\n",
              "\n",
              "    .colab-df-convert:hover {\n",
              "      background-color: #E2EBFA;\n",
              "      box-shadow: 0px 1px 2px rgba(60, 64, 67, 0.3), 0px 1px 3px 1px rgba(60, 64, 67, 0.15);\n",
              "      fill: #174EA6;\n",
              "    }\n",
              "\n",
              "    [theme=dark] .colab-df-convert {\n",
              "      background-color: #3B4455;\n",
              "      fill: #D2E3FC;\n",
              "    }\n",
              "\n",
              "    [theme=dark] .colab-df-convert:hover {\n",
              "      background-color: #434B5C;\n",
              "      box-shadow: 0px 1px 3px 1px rgba(0, 0, 0, 0.15);\n",
              "      filter: drop-shadow(0px 1px 2px rgba(0, 0, 0, 0.3));\n",
              "      fill: #FFFFFF;\n",
              "    }\n",
              "  </style>\n",
              "\n",
              "      <script>\n",
              "        const buttonEl =\n",
              "          document.querySelector('#df-d73afe83-0ce3-42ce-b843-c382481153b7 button.colab-df-convert');\n",
              "        buttonEl.style.display =\n",
              "          google.colab.kernel.accessAllowed ? 'block' : 'none';\n",
              "\n",
              "        async function convertToInteractive(key) {\n",
              "          const element = document.querySelector('#df-d73afe83-0ce3-42ce-b843-c382481153b7');\n",
              "          const dataTable =\n",
              "            await google.colab.kernel.invokeFunction('convertToInteractive',\n",
              "                                                     [key], {});\n",
              "          if (!dataTable) return;\n",
              "\n",
              "          const docLinkHtml = 'Like what you see? Visit the ' +\n",
              "            '<a target=\"_blank\" href=https://colab.research.google.com/notebooks/data_table.ipynb>data table notebook</a>'\n",
              "            + ' to learn more about interactive tables.';\n",
              "          element.innerHTML = '';\n",
              "          dataTable['output_type'] = 'display_data';\n",
              "          await google.colab.output.renderOutput(dataTable, element);\n",
              "          const docLink = document.createElement('div');\n",
              "          docLink.innerHTML = docLinkHtml;\n",
              "          element.appendChild(docLink);\n",
              "        }\n",
              "      </script>\n",
              "    </div>\n",
              "  </div>\n",
              "  "
            ],
            "text/plain": [
              "  trialJobId    reward  learning_rate  ... subsample  max_depth  colsample_btree\n",
              "9      RGObI  0.838434       0.102719  ...  0.904698          6         0.981645\n",
              "\n",
              "[1 rows x 7 columns]"
            ]
          },
          "metadata": {},
          "execution_count": 13
        }
      ]
    },
    {
      "cell_type": "code",
      "metadata": {
        "colab": {
          "base_uri": "https://localhost:8080/"
        },
        "id": "xup2FClRzsvN",
        "outputId": "e54b04b7-f6c1-49b6-a3e0-f9e50b45e8a1"
      },
      "source": [
        "# 学習\n",
        "import xgboost as xgb\n",
        "clf = xgb.XGBClassifier(\n",
        "    learning_rate=best_param_df['learning_rate'].values[0],\n",
        "    colsample_btree=best_param_df['colsample_btree'].values[0],\n",
        "    max_depth=best_param_df['max_depth'].values[0],\n",
        "    subsample=best_param_df['subsample'].values[0])\n",
        "\n",
        "clf.fit(X_train, y_train)"
      ],
      "execution_count": null,
      "outputs": [
        {
          "output_type": "execute_result",
          "data": {
            "text/plain": [
              "XGBClassifier(colsample_btree=0.9816451582096032,\n",
              "              learning_rate=0.10271901013247683, max_depth=6,\n",
              "              subsample=0.9046982586556436)"
            ]
          },
          "metadata": {},
          "execution_count": 14
        }
      ]
    },
    {
      "cell_type": "code",
      "metadata": {
        "colab": {
          "base_uri": "https://localhost:8080/",
          "height": 423
        },
        "id": "_EvGfQZdz4yF",
        "outputId": "44a381b0-bb33-4257-d57d-79976aaf0930"
      },
      "source": [
        "# 予測\n",
        "y_pred = clf.predict(X_test)\n",
        "submit_df = pd.DataFrame(y_pred, columns=['Survived'])\n",
        "submit_df['PassengerId'] = test_df_tmp\n",
        "submit_df"
      ],
      "execution_count": null,
      "outputs": [
        {
          "output_type": "execute_result",
          "data": {
            "text/html": [
              "\n",
              "  <div id=\"df-fd3bfd23-3aba-4efd-9903-6ba144112819\">\n",
              "    <div class=\"colab-df-container\">\n",
              "      <div>\n",
              "<style scoped>\n",
              "    .dataframe tbody tr th:only-of-type {\n",
              "        vertical-align: middle;\n",
              "    }\n",
              "\n",
              "    .dataframe tbody tr th {\n",
              "        vertical-align: top;\n",
              "    }\n",
              "\n",
              "    .dataframe thead th {\n",
              "        text-align: right;\n",
              "    }\n",
              "</style>\n",
              "<table border=\"1\" class=\"dataframe\">\n",
              "  <thead>\n",
              "    <tr style=\"text-align: right;\">\n",
              "      <th></th>\n",
              "      <th>Survived</th>\n",
              "      <th>PassengerId</th>\n",
              "    </tr>\n",
              "  </thead>\n",
              "  <tbody>\n",
              "    <tr>\n",
              "      <th>0</th>\n",
              "      <td>0</td>\n",
              "      <td>892</td>\n",
              "    </tr>\n",
              "    <tr>\n",
              "      <th>1</th>\n",
              "      <td>0</td>\n",
              "      <td>893</td>\n",
              "    </tr>\n",
              "    <tr>\n",
              "      <th>2</th>\n",
              "      <td>0</td>\n",
              "      <td>894</td>\n",
              "    </tr>\n",
              "    <tr>\n",
              "      <th>3</th>\n",
              "      <td>0</td>\n",
              "      <td>895</td>\n",
              "    </tr>\n",
              "    <tr>\n",
              "      <th>4</th>\n",
              "      <td>0</td>\n",
              "      <td>896</td>\n",
              "    </tr>\n",
              "    <tr>\n",
              "      <th>...</th>\n",
              "      <td>...</td>\n",
              "      <td>...</td>\n",
              "    </tr>\n",
              "    <tr>\n",
              "      <th>413</th>\n",
              "      <td>0</td>\n",
              "      <td>1305</td>\n",
              "    </tr>\n",
              "    <tr>\n",
              "      <th>414</th>\n",
              "      <td>1</td>\n",
              "      <td>1306</td>\n",
              "    </tr>\n",
              "    <tr>\n",
              "      <th>415</th>\n",
              "      <td>0</td>\n",
              "      <td>1307</td>\n",
              "    </tr>\n",
              "    <tr>\n",
              "      <th>416</th>\n",
              "      <td>0</td>\n",
              "      <td>1308</td>\n",
              "    </tr>\n",
              "    <tr>\n",
              "      <th>417</th>\n",
              "      <td>0</td>\n",
              "      <td>1309</td>\n",
              "    </tr>\n",
              "  </tbody>\n",
              "</table>\n",
              "<p>418 rows × 2 columns</p>\n",
              "</div>\n",
              "      <button class=\"colab-df-convert\" onclick=\"convertToInteractive('df-fd3bfd23-3aba-4efd-9903-6ba144112819')\"\n",
              "              title=\"Convert this dataframe to an interactive table.\"\n",
              "              style=\"display:none;\">\n",
              "        \n",
              "  <svg xmlns=\"http://www.w3.org/2000/svg\" height=\"24px\"viewBox=\"0 0 24 24\"\n",
              "       width=\"24px\">\n",
              "    <path d=\"M0 0h24v24H0V0z\" fill=\"none\"/>\n",
              "    <path d=\"M18.56 5.44l.94 2.06.94-2.06 2.06-.94-2.06-.94-.94-2.06-.94 2.06-2.06.94zm-11 1L8.5 8.5l.94-2.06 2.06-.94-2.06-.94L8.5 2.5l-.94 2.06-2.06.94zm10 10l.94 2.06.94-2.06 2.06-.94-2.06-.94-.94-2.06-.94 2.06-2.06.94z\"/><path d=\"M17.41 7.96l-1.37-1.37c-.4-.4-.92-.59-1.43-.59-.52 0-1.04.2-1.43.59L10.3 9.45l-7.72 7.72c-.78.78-.78 2.05 0 2.83L4 21.41c.39.39.9.59 1.41.59.51 0 1.02-.2 1.41-.59l7.78-7.78 2.81-2.81c.8-.78.8-2.07 0-2.86zM5.41 20L4 18.59l7.72-7.72 1.47 1.35L5.41 20z\"/>\n",
              "  </svg>\n",
              "      </button>\n",
              "      \n",
              "  <style>\n",
              "    .colab-df-container {\n",
              "      display:flex;\n",
              "      flex-wrap:wrap;\n",
              "      gap: 12px;\n",
              "    }\n",
              "\n",
              "    .colab-df-convert {\n",
              "      background-color: #E8F0FE;\n",
              "      border: none;\n",
              "      border-radius: 50%;\n",
              "      cursor: pointer;\n",
              "      display: none;\n",
              "      fill: #1967D2;\n",
              "      height: 32px;\n",
              "      padding: 0 0 0 0;\n",
              "      width: 32px;\n",
              "    }\n",
              "\n",
              "    .colab-df-convert:hover {\n",
              "      background-color: #E2EBFA;\n",
              "      box-shadow: 0px 1px 2px rgba(60, 64, 67, 0.3), 0px 1px 3px 1px rgba(60, 64, 67, 0.15);\n",
              "      fill: #174EA6;\n",
              "    }\n",
              "\n",
              "    [theme=dark] .colab-df-convert {\n",
              "      background-color: #3B4455;\n",
              "      fill: #D2E3FC;\n",
              "    }\n",
              "\n",
              "    [theme=dark] .colab-df-convert:hover {\n",
              "      background-color: #434B5C;\n",
              "      box-shadow: 0px 1px 3px 1px rgba(0, 0, 0, 0.15);\n",
              "      filter: drop-shadow(0px 1px 2px rgba(0, 0, 0, 0.3));\n",
              "      fill: #FFFFFF;\n",
              "    }\n",
              "  </style>\n",
              "\n",
              "      <script>\n",
              "        const buttonEl =\n",
              "          document.querySelector('#df-fd3bfd23-3aba-4efd-9903-6ba144112819 button.colab-df-convert');\n",
              "        buttonEl.style.display =\n",
              "          google.colab.kernel.accessAllowed ? 'block' : 'none';\n",
              "\n",
              "        async function convertToInteractive(key) {\n",
              "          const element = document.querySelector('#df-fd3bfd23-3aba-4efd-9903-6ba144112819');\n",
              "          const dataTable =\n",
              "            await google.colab.kernel.invokeFunction('convertToInteractive',\n",
              "                                                     [key], {});\n",
              "          if (!dataTable) return;\n",
              "\n",
              "          const docLinkHtml = 'Like what you see? Visit the ' +\n",
              "            '<a target=\"_blank\" href=https://colab.research.google.com/notebooks/data_table.ipynb>data table notebook</a>'\n",
              "            + ' to learn more about interactive tables.';\n",
              "          element.innerHTML = '';\n",
              "          dataTable['output_type'] = 'display_data';\n",
              "          await google.colab.output.renderOutput(dataTable, element);\n",
              "          const docLink = document.createElement('div');\n",
              "          docLink.innerHTML = docLinkHtml;\n",
              "          element.appendChild(docLink);\n",
              "        }\n",
              "      </script>\n",
              "    </div>\n",
              "  </div>\n",
              "  "
            ],
            "text/plain": [
              "     Survived  PassengerId\n",
              "0           0          892\n",
              "1           0          893\n",
              "2           0          894\n",
              "3           0          895\n",
              "4           0          896\n",
              "..        ...          ...\n",
              "413         0         1305\n",
              "414         1         1306\n",
              "415         0         1307\n",
              "416         0         1308\n",
              "417         0         1309\n",
              "\n",
              "[418 rows x 2 columns]"
            ]
          },
          "metadata": {},
          "execution_count": 15
        }
      ]
    },
    {
      "cell_type": "code",
      "metadata": {
        "id": "02QjdfcqcPAj"
      },
      "source": [
        "# Kaggle提出用のcsvファイルの出力\n",
        "submit_df.to_csv('submission.csv', index=False)"
      ],
      "execution_count": null,
      "outputs": []
    },
    {
      "cell_type": "markdown",
      "metadata": {
        "id": "53-T0M9xriwy"
      },
      "source": [
        "## その他の機能と応用"
      ]
    },
    {
      "cell_type": "markdown",
      "metadata": {
        "id": "cSEsNCWReezm"
      },
      "source": [
        "特徴量エンジニアリング\n",
        "\n",
        "\n",
        "実験段階との記載はありますが、NNIでは特徴量エンジニアリング用として以下モジュールが用意されています。\n",
        "- GradientFeatureSelector\n",
        "- GBDTSelector  \n",
        "\n",
        "今回は、GBDTSelectorを試してみましょう。\n",
        "※現時点では表形式のデータに適しており、画像、音声、テキストのデータは範囲外となります。"
      ]
    },
    {
      "cell_type": "code",
      "metadata": {
        "colab": {
          "base_uri": "https://localhost:8080/"
        },
        "id": "VUxJDZqnqJEo",
        "outputId": "6f11f613-1331-4da7-ab70-40a8bf47b00f"
      },
      "source": [
        "!pip install lightgbm"
      ],
      "execution_count": null,
      "outputs": [
        {
          "output_type": "stream",
          "name": "stdout",
          "text": [
            "Requirement already satisfied: lightgbm in /usr/local/lib/python3.7/dist-packages (2.2.3)\n",
            "Requirement already satisfied: numpy in /usr/local/lib/python3.7/dist-packages (from lightgbm) (1.19.5)\n",
            "Requirement already satisfied: scikit-learn in /usr/local/lib/python3.7/dist-packages (from lightgbm) (1.0.1)\n",
            "Requirement already satisfied: scipy in /usr/local/lib/python3.7/dist-packages (from lightgbm) (1.4.1)\n",
            "Requirement already satisfied: joblib>=0.11 in /usr/local/lib/python3.7/dist-packages (from scikit-learn->lightgbm) (1.1.0)\n",
            "Requirement already satisfied: threadpoolctl>=2.0.0 in /usr/local/lib/python3.7/dist-packages (from scikit-learn->lightgbm) (3.0.0)\n"
          ]
        }
      ]
    },
    {
      "cell_type": "code",
      "metadata": {
        "colab": {
          "base_uri": "https://localhost:8080/"
        },
        "id": "C6kXe0v9pa5N",
        "outputId": "739ed5dc-ffa6-40ad-d994-40d0f8bb5896"
      },
      "source": [
        "from nni.algorithms.feature_engineering.gbdt_selector import GBDTSelector\n",
        " \n",
        "fgs = GBDTSelector()\n",
        "lgbm_params = {\n",
        "    'objective': 'binary',\n",
        "    'boosting_type': 'gbdt',    \n",
        "    'learning_rate': 0.05,       \n",
        "    'metric': 'binary_error',\n",
        "}\n",
        "fgs.fit(\n",
        "    X_train,\n",
        "    y_train,\n",
        "    lgb_params=lgbm_params,\n",
        "    eval_ratio=0.2,\n",
        "    early_stopping_rounds=10,\n",
        "    importance_type='gain',\n",
        "    num_boost_round=50)"
      ],
      "execution_count": null,
      "outputs": [
        {
          "output_type": "stream",
          "name": "stdout",
          "text": [
            "[1]\tvalid_0's binary_error: 0.407821\n",
            "Training until validation scores don't improve for 10 rounds.\n",
            "[2]\tvalid_0's binary_error: 0.407821\n",
            "[3]\tvalid_0's binary_error: 0.407821\n",
            "[4]\tvalid_0's binary_error: 0.407821\n",
            "[5]\tvalid_0's binary_error: 0.27933\n",
            "[6]\tvalid_0's binary_error: 0.206704\n",
            "[7]\tvalid_0's binary_error: 0.206704\n",
            "[8]\tvalid_0's binary_error: 0.201117\n",
            "[9]\tvalid_0's binary_error: 0.206704\n",
            "[10]\tvalid_0's binary_error: 0.206704\n",
            "[11]\tvalid_0's binary_error: 0.206704\n",
            "[12]\tvalid_0's binary_error: 0.206704\n",
            "[13]\tvalid_0's binary_error: 0.201117\n",
            "[14]\tvalid_0's binary_error: 0.201117\n",
            "[15]\tvalid_0's binary_error: 0.201117\n",
            "[16]\tvalid_0's binary_error: 0.206704\n",
            "[17]\tvalid_0's binary_error: 0.206704\n",
            "[18]\tvalid_0's binary_error: 0.201117\n",
            "Early stopping, best iteration is:\n",
            "[8]\tvalid_0's binary_error: 0.201117\n"
          ]
        }
      ]
    },
    {
      "cell_type": "code",
      "metadata": {
        "colab": {
          "base_uri": "https://localhost:8080/",
          "height": 317
        },
        "id": "JhK3Dlkjpry5",
        "outputId": "3b354a5c-42ab-4bc3-8ab5-57c77c1c8429"
      },
      "source": [
        "import matplotlib.pyplot as plt\n",
        "\n",
        "axs = plt.subplots(figsize=[15, 4])\n",
        "importances = pd.DataFrame(\n",
        "    {'features': fgs.X.columns, 'importance': fgs.feature_importance})\n",
        "axs[1].bar(x=importances['features'], height=importances['importance'])\n",
        "axs[1].set_ylabel('Feature importance')\n",
        "axs[1].set_title('Feature importance')\n",
        "plt.show()\n",
        "print(fgs.feature_importance)"
      ],
      "execution_count": null,
      "outputs": [
        {
          "output_type": "display_data",
          "data": {
            "image/png": "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\n",
            "text/plain": [
              "<Figure size 1080x288 with 1 Axes>"
            ]
          },
          "metadata": {
            "needs_background": "light"
          }
        },
        {
          "output_type": "stream",
          "name": "stdout",
          "text": [
            "[ 253.63777058 1259.50299835  216.6258837     9.19228894    0.\n",
            "   75.68314897  160.80414378  133.57591296   15.59900999]\n"
          ]
        }
      ]
    },
    {
      "cell_type": "markdown",
      "source": [
        "今回の結果では、性別が重要な特徴量であることが分かりました。"
      ],
      "metadata": {
        "id": "djKEicqsFBgg"
      }
    },
    {
      "cell_type": "markdown",
      "metadata": {
        "id": "qTdbx7l2nM8w"
      },
      "source": [
        "以上でNNIを使用したタイタニックの生存予測は終了です。"
      ]
    }
  ]
}
