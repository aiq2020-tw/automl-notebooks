{
  "nbformat": 4,
  "nbformat_minor": 0,
  "metadata": {
    "colab": {
      "name": "NNI_Titanic.ipynb",
      "provenance": []
    },
    "kernelspec": {
      "name": "python3",
      "display_name": "Python 3"
    },
    "language_info": {
      "name": "python"
    }
  },
  "cells": [
    {
      "cell_type": "markdown",
      "metadata": {
        "id": "jCtWNxcNNKBJ"
      },
      "source": [
        "**AutoML OSS入門（9）**\n",
        "\n",
        "※現在作成中です。"
      ]
    }
  ]
}